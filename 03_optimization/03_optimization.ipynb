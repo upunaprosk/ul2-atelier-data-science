{
  "cells": [
    {
      "cell_type": "markdown",
      "metadata": {
        "id": "JlQl9ihB5T9p"
      },
      "source": [
        "# Optimization Methods, PyTorch Lightning\n",
        "\n",
        "## Introduction\n",
        "For training neural networks, advanced optimization methods are typically used, which are based on the gradient descent. Today, we will explore how to use them in **PyTorch**, and we'll also go through the **PyTorch Lightning** library, which allows us to reduce the amount of code we have to write in **PyTorch**.\n",
        "\n",
        "### Plan\n",
        "1. Optimize a single-variable function in **PyTorch**\n",
        "2. Explore different optimization methods\n",
        "3. Work with PyTorch Optimizer\n",
        "4. Work with PyTorch Scheduler\n",
        "5. PyTorch VS PyTorch Lightning\n",
        "6. Compare the performance of different optimizers\n"
      ]
    },
    {
      "cell_type": "code",
      "execution_count": 1,
      "metadata": {
        "id": "X9-5GA_L5T9q",
        "colab": {
          "base_uri": "https://localhost:8080/"
        },
        "outputId": "23f148cc-fa52-428f-a9c9-993ace132699"
      },
      "outputs": [
        {
          "output_type": "stream",
          "name": "stdout",
          "text": [
            "\u001b[2K     \u001b[90m━━━━━━━━━━━━━━━━━━━━━━━━━━━━━━━━━━━━━━━━\u001b[0m \u001b[32m800.9/800.9 kB\u001b[0m \u001b[31m5.2 MB/s\u001b[0m eta \u001b[36m0:00:00\u001b[0m\n",
            "\u001b[2K     \u001b[90m━━━━━━━━━━━━━━━━━━━━━━━━━━━━━━━━━━━━━━━━\u001b[0m \u001b[32m840.4/840.4 kB\u001b[0m \u001b[31m36.8 MB/s\u001b[0m eta \u001b[36m0:00:00\u001b[0m\n",
            "\u001b[?25h"
          ]
        }
      ],
      "source": [
        "!pip3 install pytorch_lightning torchmetrics torchvision -q"
      ]
    },
    {
      "cell_type": "code",
      "execution_count": 2,
      "metadata": {
        "id": "lUJcEdalKlZn"
      },
      "outputs": [],
      "source": [
        "import os\n",
        "import random\n",
        "import sys\n",
        "\n",
        "import matplotlib.pyplot as plt\n",
        "import numpy as np\n",
        "import torch\n",
        "from tqdm import tqdm"
      ]
    },
    {
      "cell_type": "code",
      "execution_count": 3,
      "metadata": {
        "id": "PGd36K4dlgL5"
      },
      "outputs": [],
      "source": [
        "def seed_everything(seed):\n",
        "    # Fixing maximum seeds for consistency in comparing different experiments\n",
        "    random.seed(seed)\n",
        "    os.environ[\"PYTHONHASHSEED\"] = str(seed)\n",
        "    np.random.seed(seed)\n",
        "    torch.manual_seed(seed)\n",
        "    torch.cuda.manual_seed(seed)\n",
        "    torch.backends.cudnn.deterministic = True\n",
        "\n",
        "seed_everything(0xBADBEEF)\n",
        "device = torch.device(\"cuda\") if torch.cuda.is_available() else torch.device(\"cpu\")"
      ]
    },
    {
      "cell_type": "markdown",
      "metadata": {
        "id": "kD68Ub9hKlZy"
      },
      "source": [
        "## Optimizing a Single-Variable Function in **PyTorch**\n",
        "\n",
        "Machine learning methods: parameter search that minimizes the error on the training dataset:\n",
        "$$\n",
        "\\min_{\\theta}L(p_{\\theta}(X), Y)\n",
        "$$\n",
        "Notations:\n",
        "* $L$ - some loss function,\n",
        "* $p_{\\theta}$ - neural network with parameters $\\theta$,\n",
        "* $X$ - training data,\n",
        "* $Y$ - ground truth.\n",
        "\n",
        "Let's manually write an algorithm to find the minimum of the function $f(x) = x^{3} - 2x^{2} + 2$.\n"
      ]
    },
    {
      "cell_type": "code",
      "execution_count": 4,
      "metadata": {
        "colab": {
          "base_uri": "https://localhost:8080/",
          "height": 435
        },
        "id": "6RDPRKKHKlZ0",
        "outputId": "09982228-76bd-4b3f-bd42-8220c60ce129"
      },
      "outputs": [
        {
          "output_type": "display_data",
          "data": {
            "text/plain": [
              "<Figure size 640x480 with 1 Axes>"
            ],
            "image/png": "[encoded data removed]"
          },
          "metadata": {}
        }
      ],
      "source": [
        "# Our function f(x)\n",
        "func = lambda x: x**3 - 2 * x**2 + 2\n",
        "# Derivative of the function f(x)\n",
        "d_func = lambda x: 3 * x**2 - 4 * x\n",
        "# Create an array of 1000 elements from -3 to 3\n",
        "x = np.linspace(-3, 3, 1000)\n",
        "# Define y-axis limits for the plot\n",
        "plt.ylim([-1, 3])\n",
        "plt.plot(x, func(x))\n",
        "plt.grid()\n",
        "plt.show()"
      ]
    },
    {
      "cell_type": "markdown",
      "metadata": {
        "id": "NYQ4OyiUKlZ4"
      },
      "source": [
        "Let's define an optimization function for $f(x)$, which should take the learning rate and the maximum number of iterations as inputs."
      ]
    },
    {
      "cell_type": "code",
      "execution_count": 5,
      "metadata": {
        "id": "dQ_QI8CiKlZ5"
      },
      "outputs": [],
      "source": [
        "def find_minimum_first_order(\n",
        "    learning_rate=0.01, eps=1e-4, max_iterations=1000, anneal_learning_rate=None\n",
        "):\n",
        "    i = 0\n",
        "    x_old, x_new = 0, 2\n",
        "    # We will keep a history of x and y values\n",
        "    x_list, y_list = [x_old], [func(x_old)]\n",
        "    if not anneal_learning_rate:\n",
        "        anneal_learning_rate = lambda lr, step: lr\n",
        "    # TODO:\n",
        "    # Your code here\n",
        "    # --------------\n",
        "    while abs(x_new - x_old) > eps and i < max_iterations:\n",
        "        # Get the learning rate for the current iteration\n",
        "        learning_rate = anneal_learning_rate(learning_rate, step=i)\n",
        "        # Update x_old\n",
        "        x_old = x_new\n",
        "        # Take one step of gradient descent\n",
        "        x_new = x_old - learning_rate * d_func(x_old)\n",
        "        # Add new values for visualization of convergence\n",
        "        x_list.append(x_new)\n",
        "        y_list.append(func(x_new))\n",
        "        i += 1\n",
        "    # --------------\n",
        "    print(\"Found local minimum:\", x_new)\n",
        "    print(\"Number of steps:\", len(x_list))\n",
        "    # Visualize the convergence\n",
        "    plt.figure(figsize=[6, 4])\n",
        "    plt.ylim([-3, 8])\n",
        "    plt.scatter(x_list, y_list, c=\"r\", edgecolors=\"k\")\n",
        "    plt.plot(x_list, y_list, c=\"r\")\n",
        "    plt.plot(x, func(x), c=\"b\")\n",
        "    plt.title(\"Descent trajectory\")\n",
        "    plt.grid()\n",
        "    plt.show()\n"
      ]
    },
    {
      "cell_type": "markdown",
      "metadata": {
        "id": "iBakKAc4KlZ8"
      },
      "source": [
        "Try different learning rates and observe optimization behavior\n"
      ]
    },
    {
      "cell_type": "code",
      "execution_count": 6,
      "metadata": {
        "colab": {
          "base_uri": "https://localhost:8080/",
          "height": 426
        },
        "id": "kBe4cH6vKlZ9",
        "outputId": "3ff0b2e3-4839-40e6-85d7-cc0c202fbcf4"
      },
      "outputs": [
        {
          "output_type": "stream",
          "name": "stdout",
          "text": [
            "Found local minimum: 1.3577577123861129\n",
            "Number of steps: 729\n"
          ]
        },
        {
          "output_type": "display_data",
          "data": {
            "text/plain": [
              "<Figure size 600x400 with 1 Axes>"
            ],
            "image/png": "[encoded data removed]"
          },
          "metadata": {}
        }
      ],
      "source": [
        "find_minimum_first_order(0.001)"
      ]
    },
    {
      "cell_type": "markdown",
      "metadata": {
        "id": "U6qHwvrQKlaA"
      },
      "source": [
        "Too small; we will be going very slowly towards the local minimum"
      ]
    },
    {
      "cell_type": "code",
      "execution_count": 7,
      "metadata": {
        "colab": {
          "base_uri": "https://localhost:8080/",
          "height": 426
        },
        "id": "4fJFR4SlKlaB",
        "outputId": "d08fa4a9-2b10-48a1-f481-f36b4a287eed"
      },
      "outputs": [
        {
          "output_type": "stream",
          "name": "stdout",
          "text": [
            "Found local minimum: 1.3356881625009205\n",
            "Number of steps: 129\n"
          ]
        },
        {
          "output_type": "display_data",
          "data": {
            "text/plain": [
              "<Figure size 600x400 with 1 Axes>"
            ],
            "image/png": "[encoded data removed]"
          },
          "metadata": {}
        }
      ],
      "source": [
        "find_minimum_first_order(0.01)"
      ]
    },
    {
      "cell_type": "markdown",
      "metadata": {
        "id": "tyeqRTitKlaF"
      },
      "source": [
        "We got better results."
      ]
    },
    {
      "cell_type": "code",
      "execution_count": 8,
      "metadata": {
        "colab": {
          "base_uri": "https://localhost:8080/",
          "height": 426
        },
        "id": "AEX-iPPJKlaF",
        "outputId": "99948494-7445-4528-da8a-149fcc3a5d94"
      },
      "outputs": [
        {
          "output_type": "stream",
          "name": "stdout",
          "text": [
            "Found local minimum: 1.3333495713163788\n",
            "Number of steps: 8\n"
          ]
        },
        {
          "output_type": "display_data",
          "data": {
            "text/plain": [
              "<Figure size 600x400 with 1 Axes>"
            ],
            "image/png": "[encoded data removed]"
          },
          "metadata": {}
        }
      ],
      "source": [
        "find_minimum_first_order(0.3)"
      ]
    },
    {
      "cell_type": "code",
      "execution_count": 9,
      "metadata": {
        "colab": {
          "base_uri": "https://localhost:8080/",
          "height": 287
        },
        "id": "6Xz1B6hyKlaI",
        "outputId": "1a5962b7-04aa-4dfb-f938-101ae55469e4"
      },
      "outputs": [
        {
          "output_type": "error",
          "ename": "OverflowError",
          "evalue": "(34, 'Numerical result out of range')",
          "traceback": [
            "\u001b[0;31m---------------------------------------------------------------------------\u001b[0m",
            "\u001b[0;31mOverflowError\u001b[0m                             Traceback (most recent call last)",
            "\u001b[0;32m<ipython-input-9-17e1bed5c8ec>\u001b[0m in \u001b[0;36m<cell line: 1>\u001b[0;34m()\u001b[0m\n\u001b[0;32m----> 1\u001b[0;31m \u001b[0mfind_minimum_first_order\u001b[0m\u001b[0;34m(\u001b[0m\u001b[0;36m0.6\u001b[0m\u001b[0;34m)\u001b[0m\u001b[0;34m\u001b[0m\u001b[0;34m\u001b[0m\u001b[0m\n\u001b[0m",
            "\u001b[0;32m<ipython-input-5-34acf47f8d37>\u001b[0m in \u001b[0;36mfind_minimum_first_order\u001b[0;34m(learning_rate, eps, max_iterations, anneal_learning_rate)\u001b[0m\n\u001b[1;32m     20\u001b[0m         \u001b[0;31m# Add new values for visualization of convergence\u001b[0m\u001b[0;34m\u001b[0m\u001b[0;34m\u001b[0m\u001b[0m\n\u001b[1;32m     21\u001b[0m         \u001b[0mx_list\u001b[0m\u001b[0;34m.\u001b[0m\u001b[0mappend\u001b[0m\u001b[0;34m(\u001b[0m\u001b[0mx_new\u001b[0m\u001b[0;34m)\u001b[0m\u001b[0;34m\u001b[0m\u001b[0;34m\u001b[0m\u001b[0m\n\u001b[0;32m---> 22\u001b[0;31m         \u001b[0my_list\u001b[0m\u001b[0;34m.\u001b[0m\u001b[0mappend\u001b[0m\u001b[0;34m(\u001b[0m\u001b[0mfunc\u001b[0m\u001b[0;34m(\u001b[0m\u001b[0mx_new\u001b[0m\u001b[0;34m)\u001b[0m\u001b[0;34m)\u001b[0m\u001b[0;34m\u001b[0m\u001b[0;34m\u001b[0m\u001b[0m\n\u001b[0m\u001b[1;32m     23\u001b[0m         \u001b[0mi\u001b[0m \u001b[0;34m+=\u001b[0m \u001b[0;36m1\u001b[0m\u001b[0;34m\u001b[0m\u001b[0;34m\u001b[0m\u001b[0m\n\u001b[1;32m     24\u001b[0m     \u001b[0;31m# --------------\u001b[0m\u001b[0;34m\u001b[0m\u001b[0;34m\u001b[0m\u001b[0m\n",
            "\u001b[0;32m<ipython-input-4-2bf4caba4e7c>\u001b[0m in \u001b[0;36m<lambda>\u001b[0;34m(x)\u001b[0m\n\u001b[1;32m      1\u001b[0m \u001b[0;31m# Our function f(x)\u001b[0m\u001b[0;34m\u001b[0m\u001b[0;34m\u001b[0m\u001b[0m\n\u001b[0;32m----> 2\u001b[0;31m \u001b[0mfunc\u001b[0m \u001b[0;34m=\u001b[0m \u001b[0;32mlambda\u001b[0m \u001b[0mx\u001b[0m\u001b[0;34m:\u001b[0m \u001b[0mx\u001b[0m\u001b[0;34m**\u001b[0m\u001b[0;36m3\u001b[0m \u001b[0;34m-\u001b[0m \u001b[0;36m2\u001b[0m \u001b[0;34m*\u001b[0m \u001b[0mx\u001b[0m\u001b[0;34m**\u001b[0m\u001b[0;36m2\u001b[0m \u001b[0;34m+\u001b[0m \u001b[0;36m2\u001b[0m\u001b[0;34m\u001b[0m\u001b[0;34m\u001b[0m\u001b[0m\n\u001b[0m\u001b[1;32m      3\u001b[0m \u001b[0;31m# Derivative of the function f(x)\u001b[0m\u001b[0;34m\u001b[0m\u001b[0;34m\u001b[0m\u001b[0m\n\u001b[1;32m      4\u001b[0m \u001b[0md_func\u001b[0m \u001b[0;34m=\u001b[0m \u001b[0;32mlambda\u001b[0m \u001b[0mx\u001b[0m\u001b[0;34m:\u001b[0m \u001b[0;36m3\u001b[0m \u001b[0;34m*\u001b[0m \u001b[0mx\u001b[0m\u001b[0;34m**\u001b[0m\u001b[0;36m2\u001b[0m \u001b[0;34m-\u001b[0m \u001b[0;36m4\u001b[0m \u001b[0;34m*\u001b[0m \u001b[0mx\u001b[0m\u001b[0;34m\u001b[0m\u001b[0;34m\u001b[0m\u001b[0m\n\u001b[1;32m      5\u001b[0m \u001b[0;31m# Create an array of 1000 elements from -3 to 3\u001b[0m\u001b[0;34m\u001b[0m\u001b[0;34m\u001b[0m\u001b[0m\n",
            "\u001b[0;31mOverflowError\u001b[0m: (34, 'Numerical result out of range')"
          ]
        }
      ],
      "source": [
        "find_minimum_first_order(0.6)"
      ]
    },
    {
      "cell_type": "markdown",
      "metadata": {
        "id": "gTTbzvS0KlaM"
      },
      "source": [
        "Oops, we got an Overflow. This means the learning rate is too large. Although a large learning rate carries the risk of overflow, it has several advantages. The larger the learning rate, the greater the distances we cover in one step, and the higher the probability of quickly finding a good region of local minima.\n",
        "\n",
        "A good strategy is to start with a sufficiently large step (to explore the function well) and then gradually decrease it to stabilize the learning process in some local minimum."
      ]
    },
    {
      "cell_type": "code",
      "execution_count": 10,
      "metadata": {
        "id": "itCkyBdaKlaN",
        "colab": {
          "base_uri": "https://localhost:8080/",
          "height": 426
        },
        "outputId": "6e56adb6-dcaf-4d92-e585-efbdb673b60d"
      },
      "outputs": [
        {
          "output_type": "stream",
          "name": "stdout",
          "text": [
            "Found local minimum: 1.294744839667743\n",
            "Number of steps: 7\n"
          ]
        },
        {
          "output_type": "display_data",
          "data": {
            "text/plain": [
              "<Figure size 600x400 with 1 Axes>"
            ],
            "image/png": "[encoded data removed]"
          },
          "metadata": {}
        }
      ],
      "source": [
        "find_minimum_first_order(0.6, anneal_learning_rate=lambda lr, step: 0.3 * lr)"
      ]
    },
    {
      "cell_type": "markdown",
      "metadata": {
        "id": "pSMWbov7ZrSQ"
      },
      "source": [
        "## Exploring Different Optimization Methods\n",
        "\n",
        "### Stochastic Gradient Descent\n",
        "SGD is the same gradient descent we discussed earlier, but the gradients are calculated not over the entire dataset but over a randomly chosen sample. Obviously, such optimization will be very noisy, making model training more challenging. Therefore, MiniBatch-SGD is usually used, where instead of a single sample, we take $k$. This approach has lower variance compared to regular SGD, leading to a more stable optimization process. At the same time, we still don't need to work with the entire dataset simultaneously, allowing us to control memory usage.\n",
        "\n",
        "$$\n",
        "\\begin{eqnarray}\n",
        "g &=& \\frac{1}{m}\\nabla_w \\sum_i L(f(x_{i};w), y_{i}) \\\\\n",
        "w &=& w - \\eta \\times g\n",
        "\\end{eqnarray}\n",
        "$$\n",
        "\n",
        "### Stochastic Gradient Descent with Momentum\n",
        "Let's try to add the effect of inertia to SGD. Now, instead of moving in the gradient direction at each point, we try to continue moving in the same direction as before. So, our point descending along a multi-dimensional surface gains momentum, controlled by the parameter $\\alpha$. It determines what part of the previous gradient we want to use at the current step.\n",
        "\n",
        "$$\n",
        "\\begin{eqnarray}\n",
        "g_{t} &=& \\alpha g_{t-1} + \\eta \\frac{1}{m}\\nabla_w \\sum_i L(f(x_{i};w), y_{i}) \\\\\n",
        "w &=& w - \\eta \\times g\n",
        "\\end{eqnarray}\n",
        "$$\n",
        "\n",
        "![Momentum](https://b2633864.smushcdn.com/2633864/wp-content/uploads/2021/04/gradient_descent_variations_momentum.png?lossy=2&strip=1&webp=1)\n",
        "\n",
        "### Adaptive Variants of Gradient Descent\n",
        "In all previous algorithms, we had a fixed learning rate. Starting from Adagrad, we will consider algorithms that adjust the learning rate based on training. They are called adaptive variants of gradient descent.\n",
        "\n",
        "Adaptive variants of gradient descent adjust the learning rate to make large or small updates for individual parameters. For example, it may happen that some weights are close to their local minima, so we need to move slower along these coordinates, while other weights are still far from the local minima, so we can update them much faster. Such methods often lead to a more justified model and converge much faster.\n",
        "\n",
        "#### Adagrad\n",
        "$$\n",
        "\\begin{eqnarray}\n",
        "g &=& \\frac{1}{m}\\nabla_w \\sum_i L(f(x_{i};w), y_{i}) \\\\\n",
        "s &=& s + \\text{diag}(gg^{T}) \\\\\n",
        "w &=& w - \\frac{\\eta}{\\sqrt{s+\\epsilon}} \\odot g\n",
        "\\end{eqnarray}\n",
        "$$\n",
        "Now we don't need to worry too much about the right choice of $\\eta$, since $s$ controls the learning rate for each parameter.\n",
        "\n",
        "#### RMSprop\n",
        "Adagrad has a significant drawback. $s$ is always positive and constantly grows during training, leading to a situation where our learning rate becomes too small, and we stop learning. RMSprop fixes this issue using exponential smoothing:\n",
        "\n",
        "$$\n",
        "\\begin{eqnarray}\n",
        "g &=& \\frac{1}{m}\\nabla_w \\sum_i L(f(x_{i};w), y_{i}) \\\\\n",
        "s &=& \\rho s + (1 - \\rho) \\text{diag}(gg^{T}) \\\\\n",
        "w &=& w - \\frac{\\eta}{\\sqrt{s+\\epsilon}} \\odot g\n",
        "\\end{eqnarray}\n",
        "$$\n",
        "\n",
        "#### Adam\n",
        "Let's add not only second-order moments but also the first order when updating parameters:\n",
        "\n",
        "$$\n",
        "\\begin{eqnarray}\n",
        "g &=& \\frac{1}{m}\\nabla_w \\sum_i L(f(x_{i};w), y_{i}) \\\\\n",
        "m &=& \\beta_1 m + (1 - \\beta_1) g \\\\\n",
        "v &=& \\beta_2 v + (1 - \\beta_2) \\text{diag}(gg^{T}) \\\\\n",
        "\\hat{m} &=& \\frac{m}{1 - \\beta_1^{t}} \\\\\n",
        "\\hat{v} &=& \\frac{v}{1 - \\beta_2^{t}} \\\\\n",
        "w &=& w - \\frac{\\eta}{\\sqrt{\\hat{v} + \\epsilon}} \\odot \\hat{m}\n",
        "\\end{eqnarray}\n",
        "$$\n",
        "\n",
        "\n"
      ]
    },
    {
      "cell_type": "markdown",
      "metadata": {
        "id": "ZeCXawXsKlaX"
      },
      "source": [
        "### Working with PyTorch Optimizer\n",
        "\n",
        "Obviously, for your neural networks, you don't need to write your algorithm every time, as all the most popular methods have already been implemented for you. You can find them in **torch.optim** or [here](https://pytorch.org/docs/stable/optim.html#algorithms).\n"
      ]
    },
    {
      "cell_type": "code",
      "execution_count": 11,
      "metadata": {
        "id": "8oraXo9DKlaX",
        "colab": {
          "base_uri": "https://localhost:8080/"
        },
        "outputId": "23dea3fc-7b19-475f-898b-017bf7e5b666"
      },
      "outputs": [
        {
          "output_type": "execute_result",
          "data": {
            "text/plain": [
              "['ASGD',\n",
              " 'Adadelta',\n",
              " 'Adagrad',\n",
              " 'Adam',\n",
              " 'AdamW',\n",
              " 'Adamax',\n",
              " 'LBFGS',\n",
              " 'NAdam',\n",
              " 'Optimizer',\n",
              " 'RAdam',\n",
              " 'RMSprop',\n",
              " 'Rprop',\n",
              " 'SGD',\n",
              " 'SparseAdam',\n",
              " 'lr_scheduler',\n",
              " 'swa_utils']"
            ]
          },
          "metadata": {},
          "execution_count": 11
        }
      ],
      "source": [
        "[elem for elem in dir(torch.optim) if not elem.startswith(\"_\")]"
      ]
    },
    {
      "cell_type": "markdown",
      "metadata": {
        "id": "-Xsq3M5VKlaa"
      },
      "source": [
        "Main PyTorch Optimizer methods:\n",
        "* __step__ - update the model weights\n",
        "* __zero_grad__ - zero out the model weights (by default, gradients in PyTorch accumulate) ~ `for each param in params: param.grad = None`\n",
        "* __state_dict__ - get the current state of the Optimizer. For adaptive methods, accumulated squares of gradients will be stored here.\n",
        "\n",
        "### How to create a PyTorch Optimizer instance?\n",
        "\n",
        "To create an optimizer instance, you just need to pass it the model parameters (which you can get using the `parameters()` function) and hyperparameters for the optimization method.\n",
        "\n",
        "Example:"
      ]
    },
    {
      "cell_type": "code",
      "execution_count": 12,
      "metadata": {
        "id": "KLLI3GbM89kb"
      },
      "outputs": [],
      "source": [
        "?torch.optim.SGD"
      ]
    },
    {
      "cell_type": "code",
      "execution_count": 13,
      "metadata": {
        "colab": {
          "base_uri": "https://localhost:8080/"
        },
        "id": "BDgqvgVJKlaa",
        "outputId": "77407c94-0816-48c5-8817-3f38584a9070"
      },
      "outputs": [
        {
          "output_type": "execute_result",
          "data": {
            "text/plain": [
              "([('weight',\n",
              "   Parameter containing:\n",
              "   tensor([[-0.1194]], requires_grad=True)),\n",
              "  ('bias',\n",
              "   Parameter containing:\n",
              "   tensor([0.4259], requires_grad=True))],\n",
              " SGD (\n",
              " Parameter Group 0\n",
              "     dampening: 0\n",
              "     differentiable: False\n",
              "     foreach: None\n",
              "     lr: 0.01\n",
              "     maximize: False\n",
              "     momentum: 0\n",
              "     nesterov: False\n",
              "     weight_decay: 0\n",
              " ))"
            ]
          },
          "metadata": {},
          "execution_count": 13
        }
      ],
      "source": [
        "model = torch.nn.Linear(1, 1)\n",
        "list(model.named_parameters()), torch.optim.SGD(model.parameters(), lr=0.01)"
      ]
    },
    {
      "cell_type": "markdown",
      "metadata": {
        "id": "7rpMKRptKlac"
      },
      "source": [
        "Or:"
      ]
    },
    {
      "cell_type": "code",
      "execution_count": 14,
      "metadata": {
        "colab": {
          "base_uri": "https://localhost:8080/"
        },
        "id": "N6mSL4-CKlad",
        "outputId": "d4ec29f8-d407-4a1b-e263-6bd5d6935747"
      },
      "outputs": [
        {
          "output_type": "execute_result",
          "data": {
            "text/plain": [
              "SGD (\n",
              "Parameter Group 0\n",
              "    dampening: 0\n",
              "    differentiable: False\n",
              "    foreach: None\n",
              "    lr: 0.3\n",
              "    maximize: False\n",
              "    momentum: 0\n",
              "    nesterov: False\n",
              "    weight_decay: 0\n",
              "\n",
              "Parameter Group 1\n",
              "    dampening: 0\n",
              "    differentiable: False\n",
              "    foreach: None\n",
              "    lr: 0.5\n",
              "    maximize: False\n",
              "    momentum: 0\n",
              "    nesterov: False\n",
              "    weight_decay: 0\n",
              ")"
            ]
          },
          "metadata": {},
          "execution_count": 14
        }
      ],
      "source": [
        "# Define PyTorch modules as a dictionary\n",
        "model = torch.nn.ModuleDict(\n",
        "    {\"linear_1\": torch.nn.Linear(1, 1), \"linear_2\": torch.nn.Linear(2, 2)}\n",
        ")\n",
        "torch.optim.SGD(\n",
        "    [\n",
        "        {\"params\": model[\"linear_1\"].parameters(), \"lr\": 0.3},\n",
        "        {\"params\": model[\"linear_2\"].parameters()},\n",
        "    ],\n",
        "    lr=0.5,\n",
        ")\n"
      ]
    },
    {
      "cell_type": "markdown",
      "metadata": {
        "id": "Jyw8oX6vpaO9"
      },
      "source": [
        "The last point is very useful, for example, in transfer learning when we want the pre-trained model to be trained with a different learning rate.\n",
        "\n",
        "**Important:** even if you have adaptive gradient descent methods, it's not advisable to completely forget about tuning the learning rate.\n"
      ]
    },
    {
      "cell_type": "markdown",
      "metadata": {
        "id": "g-nDP6ta5T91"
      },
      "source": [
        "### Working with PyTorch Scheduler\n",
        "\n",
        "At the beginning of the seminar, we reduced the number of steps to convergence as follows: started with a sufficiently large learning rate, and then gradually reduced it to stabilize the learning process in the minimum. It turns out there are many ways to modify optimization in this way. They are called Schedulers.\n"
      ]
    },
    {
      "cell_type": "code",
      "execution_count": 15,
      "metadata": {
        "colab": {
          "base_uri": "https://localhost:8080/"
        },
        "id": "Ghk6fqbIqX_G",
        "outputId": "33c46783-7db9-46d6-a18a-f37e64999e28"
      },
      "outputs": [
        {
          "output_type": "execute_result",
          "data": {
            "text/plain": [
              "['ChainedScheduler',\n",
              " 'ConstantLR',\n",
              " 'CosineAnnealingLR',\n",
              " 'CosineAnnealingWarmRestarts',\n",
              " 'Counter',\n",
              " 'CyclicLR',\n",
              " 'EPOCH_DEPRECATION_WARNING',\n",
              " 'ExponentialLR',\n",
              " 'LRScheduler',\n",
              " 'LambdaLR',\n",
              " 'LinearLR',\n",
              " 'MultiStepLR',\n",
              " 'MultiplicativeLR',\n",
              " 'OneCycleLR',\n",
              " 'Optimizer',\n",
              " 'PolynomialLR',\n",
              " 'ReduceLROnPlateau',\n",
              " 'SequentialLR',\n",
              " 'StepLR',\n",
              " 'bisect_right',\n",
              " 'inf',\n",
              " 'math',\n",
              " 'partial',\n",
              " 'types',\n",
              " 'warnings',\n",
              " 'weakref',\n",
              " 'wraps']"
            ]
          },
          "metadata": {},
          "execution_count": 15
        }
      ],
      "source": [
        "[elem for elem in dir(torch.optim.lr_scheduler) if not elem.startswith(\"_\")]"
      ]
    },
    {
      "cell_type": "markdown",
      "metadata": {
        "id": "00r2hf3HvUAR"
      },
      "source": [
        "### Main methods of PyTorch Scheduler:\n",
        "* __step__ - update the learning rate. *Usually called **once per epoch**, not every optimizer step.*\n",
        "* __state_dict__ - get the current state of the Scheduler: current LR, the number of steps passed, and additional parameters.\n",
        "\n",
        "### How to create a PyTorch Scheduler instance?\n",
        "\n",
        "It is enough to pass `optimizer` and hyperparameters for the method.\n",
        "\n",
        "Example:\n"
      ]
    },
    {
      "cell_type": "code",
      "execution_count": 16,
      "metadata": {
        "id": "dKZwrKBpwmsy"
      },
      "outputs": [],
      "source": [
        "model = torch.nn.Linear(1, 1)\n",
        "optimizer = torch.optim.SGD(model.parameters(), lr=0.01)\n",
        "scheduler_func = lambda epoch: 0.65**epoch\n",
        "scheduler = torch.optim.lr_scheduler.LambdaLR(optimizer, scheduler_func)"
      ]
    },
    {
      "cell_type": "markdown",
      "metadata": {
        "id": "Xl6QuDjjrZmG"
      },
      "source": [
        "Let's create a couple of small functions for visualizing the learning rate changes using different schedulers:"
      ]
    },
    {
      "cell_type": "code",
      "execution_count": 17,
      "metadata": {
        "id": "8zeYr14lrQ_j"
      },
      "outputs": [],
      "source": [
        "def get_simple_model_optimizer():\n",
        "    simple_model = torch.nn.Linear(2, 1)\n",
        "    simple_optimizer = torch.optim.SGD(model.parameters(), lr=100)\n",
        "    return simple_model, simple_optimizer\n",
        "\n",
        "\n",
        "def draw_learning_rate_curve(optimizer, scheduler):\n",
        "    lrs = []\n",
        "    for i in range(100):\n",
        "        optimizer.step()\n",
        "        lrs.append(optimizer.param_groups[0][\"lr\"])\n",
        "        scheduler.step()\n",
        "    plt.grid()\n",
        "    plt.plot(range(100), lrs)"
      ]
    },
    {
      "cell_type": "markdown",
      "metadata": {
        "id": "sJJQ9HEQtpqY"
      },
      "source": [
        "### Examples of Various Schedulers in **PyTorch**\n",
        "\n",
        "#### Lambda LR\n",
        "Multiplies the learning rate by the value of the given function: $lr_{\\text{epoch}} = lr_{\\text{initial}} \\times \\text{Lambda(epoch)}$.\n"
      ]
    },
    {
      "cell_type": "code",
      "execution_count": 18,
      "metadata": {
        "colab": {
          "base_uri": "https://localhost:8080/",
          "height": 430
        },
        "id": "FZS4XOR8tK_E",
        "outputId": "a8dd93f2-9ee4-47de-d146-19274b298e2f"
      },
      "outputs": [
        {
          "output_type": "display_data",
          "data": {
            "text/plain": [
              "<Figure size 640x480 with 1 Axes>"
            ],
            "image/png": "[encoded data removed]"
          },
          "metadata": {}
        }
      ],
      "source": [
        "model, optimizer = get_simple_model_optimizer()\n",
        "lambda_func = lambda epoch: 0.95**epoch\n",
        "scheduler = torch.optim.lr_scheduler.LambdaLR(optimizer, lr_lambda=lambda_func)\n",
        "draw_learning_rate_curve(optimizer, scheduler)"
      ]
    },
    {
      "cell_type": "markdown",
      "metadata": {
        "id": "B8PuQb8fuIno"
      },
      "source": [
        "#### StepLR\n",
        "Reduces the learning rate by a factor of `gamma` every `step_size` epochs.\n"
      ]
    },
    {
      "cell_type": "code",
      "execution_count": 19,
      "metadata": {
        "colab": {
          "base_uri": "https://localhost:8080/",
          "height": 430
        },
        "id": "iNPhic8utbVb",
        "outputId": "acb2a5da-d11c-40d1-ccbf-9113de4b0234"
      },
      "outputs": [
        {
          "output_type": "display_data",
          "data": {
            "text/plain": [
              "<Figure size 640x480 with 1 Axes>"
            ],
            "image/png": "[encoded data removed]"
          },
          "metadata": {}
        }
      ],
      "source": [
        "model, optimizer = get_simple_model_optimizer()\n",
        "scheduler = torch.optim.lr_scheduler.StepLR(optimizer, step_size=10, gamma=0.7)\n",
        "draw_learning_rate_curve(optimizer, scheduler)"
      ]
    },
    {
      "cell_type": "markdown",
      "metadata": {
        "id": "c3Ztt5AoyQCA"
      },
      "source": [
        "#### CosineAnnealingLR\n",
        "\n",
        "It is important to understand that learning rate (LR) makes sense not only to decrease but sometimes also to make cyclic. The formula [here](https://pytorch.org/docs/stable/generated/torch.optim.lr_scheduler.CosineAnnealingLR.html) is somewhat more complex, we'll leave it for those who are interested.\n"
      ]
    },
    {
      "cell_type": "code",
      "execution_count": 20,
      "metadata": {
        "colab": {
          "base_uri": "https://localhost:8080/",
          "height": 430
        },
        "id": "XPBv2i47yPOe",
        "outputId": "6a9196aa-b9e1-4620-8e83-ca36be66891b"
      },
      "outputs": [
        {
          "output_type": "display_data",
          "data": {
            "text/plain": [
              "<Figure size 640x480 with 1 Axes>"
            ],
            "image/png": "[encoded data removed]"
          },
          "metadata": {}
        }
      ],
      "source": [
        "model, optimizer = get_simple_model_optimizer()\n",
        "scheduler = torch.optim.lr_scheduler.CosineAnnealingLR(optimizer, T_max=10, eta_min=0)\n",
        "draw_learning_rate_curve(optimizer, scheduler)"
      ]
    },
    {
      "cell_type": "markdown",
      "metadata": {
        "id": "2YmhZSXV4EBp"
      },
      "source": [
        "## PyTorch vs. PyTorch Lightning\n",
        "\n",
        "**PyTorch Lightning** is a framework for organized work with **PyTorch**. It simplifies tasks such as:\n",
        "- Writing the training loop\n",
        "- Creating datasets\n",
        "- Utilizing GPU/TPU/IPU/HPU, etc.\n",
        "- Converting models to the ONNX format\n",
        "- And much more\n",
        "\n",
        "The framework aims to allow users to configure parameters and conduct experiments, while it takes care of the rest. Let's compare code in **PyTorch** without and with the use of **Lightning**, using a simple neural network on the FashionMNIST dataset as an example.\n"
      ]
    },
    {
      "cell_type": "code",
      "execution_count": 21,
      "metadata": {
        "id": "xZEZIiu05T95"
      },
      "outputs": [],
      "source": [
        "from collections import defaultdict, namedtuple\n",
        "\n",
        "import pytorch_lightning as pl\n",
        "import torchvision\n",
        "import torchvision.transforms as transforms\n",
        "from torch.utils.data import DataLoader\n",
        "# A powerful library with a variety of metrics out of the box\n",
        "from torchmetrics.functional import accuracy"
      ]
    },
    {
      "cell_type": "markdown",
      "metadata": {
        "id": "IVYuHkoa5T96"
      },
      "source": [
        "### Data"
      ]
    },
    {
      "cell_type": "code",
      "execution_count": 22,
      "metadata": {
        "id": "hHAHgGdeKlau",
        "colab": {
          "base_uri": "https://localhost:8080/"
        },
        "outputId": "48d702e0-648e-4f3b-eb63-afb8c916ba73"
      },
      "outputs": [
        {
          "output_type": "stream",
          "name": "stdout",
          "text": [
            "Downloading http://fashion-mnist.s3-website.eu-central-1.amazonaws.com/train-images-idx3-ubyte.gz\n",
            "Downloading http://fashion-mnist.s3-website.eu-central-1.amazonaws.com/train-images-idx3-ubyte.gz to ./data/FashionMNIST/raw/train-images-idx3-ubyte.gz\n"
          ]
        },
        {
          "output_type": "stream",
          "name": "stderr",
          "text": [
            "100%|██████████| 26421880/26421880 [00:01<00:00, 15524763.45it/s]\n"
          ]
        },
        {
          "output_type": "stream",
          "name": "stdout",
          "text": [
            "Extracting ./data/FashionMNIST/raw/train-images-idx3-ubyte.gz to ./data/FashionMNIST/raw\n",
            "\n",
            "Downloading http://fashion-mnist.s3-website.eu-central-1.amazonaws.com/train-labels-idx1-ubyte.gz\n",
            "Downloading http://fashion-mnist.s3-website.eu-central-1.amazonaws.com/train-labels-idx1-ubyte.gz to ./data/FashionMNIST/raw/train-labels-idx1-ubyte.gz\n"
          ]
        },
        {
          "output_type": "stream",
          "name": "stderr",
          "text": [
            "100%|██████████| 29515/29515 [00:00<00:00, 265865.92it/s]\n"
          ]
        },
        {
          "output_type": "stream",
          "name": "stdout",
          "text": [
            "Extracting ./data/FashionMNIST/raw/train-labels-idx1-ubyte.gz to ./data/FashionMNIST/raw\n",
            "\n",
            "Downloading http://fashion-mnist.s3-website.eu-central-1.amazonaws.com/t10k-images-idx3-ubyte.gz\n",
            "Downloading http://fashion-mnist.s3-website.eu-central-1.amazonaws.com/t10k-images-idx3-ubyte.gz to ./data/FashionMNIST/raw/t10k-images-idx3-ubyte.gz\n"
          ]
        },
        {
          "output_type": "stream",
          "name": "stderr",
          "text": [
            "100%|██████████| 4422102/4422102 [00:00<00:00, 4902398.17it/s]\n"
          ]
        },
        {
          "output_type": "stream",
          "name": "stdout",
          "text": [
            "Extracting ./data/FashionMNIST/raw/t10k-images-idx3-ubyte.gz to ./data/FashionMNIST/raw\n",
            "\n",
            "Downloading http://fashion-mnist.s3-website.eu-central-1.amazonaws.com/t10k-labels-idx1-ubyte.gz\n",
            "Downloading http://fashion-mnist.s3-website.eu-central-1.amazonaws.com/t10k-labels-idx1-ubyte.gz to ./data/FashionMNIST/raw/t10k-labels-idx1-ubyte.gz\n"
          ]
        },
        {
          "output_type": "stream",
          "name": "stderr",
          "text": [
            "100%|██████████| 5148/5148 [00:00<00:00, 5736524.17it/s]"
          ]
        },
        {
          "output_type": "stream",
          "name": "stdout",
          "text": [
            "Extracting ./data/FashionMNIST/raw/t10k-labels-idx1-ubyte.gz to ./data/FashionMNIST/raw\n",
            "\n"
          ]
        },
        {
          "output_type": "stream",
          "name": "stderr",
          "text": [
            "\n",
            "/usr/local/lib/python3.10/dist-packages/torch/utils/data/dataloader.py:557: UserWarning: This DataLoader will create 4 worker processes in total. Our suggested max number of worker in current system is 2, which is smaller than what this DataLoader is going to create. Please be aware that excessive worker creation might get DataLoader running slow or even freeze, lower the worker number to avoid potential slowness/freeze if necessary.\n",
            "  warnings.warn(_create_warning_msg(\n"
          ]
        }
      ],
      "source": [
        "# Train data\n",
        "fashion_mnist_train = torchvision.datasets.FashionMNIST(\n",
        "    \"./data\", download=True, transform=transforms.Compose([transforms.ToTensor()])\n",
        ")\n",
        "train_dataloader = DataLoader(\n",
        "    fashion_mnist_train, batch_size=128, shuffle=True, num_workers=4\n",
        ")\n",
        "\n",
        "# Validation data\n",
        "fashion_mnist_val = torchvision.datasets.FashionMNIST(\n",
        "    \"./data\",\n",
        "    train=False,\n",
        "    download=True,\n",
        "    transform=transforms.Compose([transforms.ToTensor()]),\n",
        ")\n",
        "val_dataloader = DataLoader(fashion_mnist_val, batch_size=128, num_workers=4)"
      ]
    },
    {
      "cell_type": "code",
      "execution_count": 23,
      "metadata": {
        "id": "Sr1MKTjBKlaw"
      },
      "outputs": [],
      "source": [
        "idx_to_label = defaultdict(\n",
        "    None,\n",
        "    {\n",
        "        0: \"T-shirt/Top\",\n",
        "        1: \"Trouser\",\n",
        "        2: \"Pullover\",\n",
        "        3: \"Dress\",\n",
        "        4: \"Coat\",\n",
        "        5: \"Sandal\",\n",
        "        6: \"Shirt\",\n",
        "        7: \"Sneaker\",\n",
        "        8: \"Bag\",\n",
        "        9: \"Ankle Boot\",\n",
        "    },\n",
        ")"
      ]
    },
    {
      "cell_type": "code",
      "execution_count": 24,
      "metadata": {
        "colab": {
          "base_uri": "https://localhost:8080/",
          "height": 878
        },
        "id": "KQfTpcB05ZcB",
        "outputId": "0ae0aa0e-bd1f-4074-ad56-d3d7ab58f7f8"
      },
      "outputs": [
        {
          "output_type": "stream",
          "name": "stdout",
          "text": [
            "Ankle Boot\n"
          ]
        },
        {
          "output_type": "display_data",
          "data": {
            "text/plain": [
              "<Figure size 640x480 with 1 Axes>"
            ],
            "image/png": "[encoded data removed]"
          },
          "metadata": {}
        },
        {
          "output_type": "stream",
          "name": "stdout",
          "text": [
            "Coat\n"
          ]
        },
        {
          "output_type": "display_data",
          "data": {
            "text/plain": [
              "<Figure size 640x480 with 1 Axes>"
            ],
            "image/png": "[encoded data removed]"
          },
          "metadata": {}
        }
      ],
      "source": [
        "### pictures are normalized\n",
        "for batch in val_dataloader:\n",
        "    # batch_size is 128\n",
        "    images, class_nums = batch\n",
        "    print(idx_to_label[int(class_nums[0])])\n",
        "    plt.imshow(images[0].squeeze())\n",
        "    plt.show()\n",
        "    print(idx_to_label[int(class_nums[127])])\n",
        "    plt.imshow(images[127].squeeze())\n",
        "    plt.show()\n",
        "    break"
      ]
    },
    {
      "cell_type": "markdown",
      "metadata": {
        "id": "Q6Mf1W49f2Fv"
      },
      "source": [
        "### Model (General)\n",
        "\n",
        "Create a model class according to the following architecture:\n",
        "\n",
        "1. BatchNorm\n",
        "2. Conv(out=32, kernel=3) -> ReLU -> MaxPool(kernel=2)\n",
        "3. BatchNorm\n",
        "4. Conv(out=64, kernel=3) -> ReLU -> MaxPool(kernel=2)\n",
        "5. Flatten\n",
        "6. Linear(out=128)\n",
        "7. ReLU\n",
        "8. Dropout\n",
        "9. Linear(out=64)\n",
        "10. ReLU\n",
        "11. Linear(out=10)\n"
      ]
    },
    {
      "cell_type": "code",
      "execution_count": 25,
      "metadata": {
        "id": "QkHmFRSkKlay"
      },
      "outputs": [],
      "source": [
        "class SimpleNet(torch.nn.Module):\n",
        "    def __init__(self, dropout=0.4):\n",
        "        super().__init__()\n",
        "        # TODO:\n",
        "        # Your code here:\n",
        "        # --------------\n",
        "        self.batch_norm1 = torch.nn.BatchNorm2d(1)\n",
        "\n",
        "        self.relu = torch.nn.ReLU()\n",
        "\n",
        "        self.maxpool = torch.nn.MaxPool2d(kernel_size=2)\n",
        "\n",
        "        self.conv1 = torch.nn.Sequential(\n",
        "            torch.nn.Conv2d(in_channels=1, out_channels=32, kernel_size=3),\n",
        "            self.relu,\n",
        "            self.maxpool,\n",
        "        )\n",
        "        self.batch_norm2 = torch.nn.BatchNorm2d(32)\n",
        "\n",
        "        self.conv2 = torch.nn.Sequential(\n",
        "            torch.nn.Conv2d(in_channels=32, out_channels=64, kernel_size=3),\n",
        "            self.relu,\n",
        "            self.maxpool,\n",
        "        )\n",
        "\n",
        "        self.linear1 = torch.nn.Linear(in_features=64 * 5 * 5, out_features=128)\n",
        "        self.linear2 = torch.nn.Linear(in_features=128, out_features=64)\n",
        "\n",
        "        self.output = torch.nn.Linear(in_features=64, out_features=10)\n",
        "\n",
        "        self.dropout = torch.nn.Dropout(p=dropout)\n",
        "\n",
        "        # --------------\n",
        "        self.loss_func = torch.nn.CrossEntropyLoss()\n",
        "        self.targets = torch.Tensor()\n",
        "        self.preds = torch.Tensor()\n",
        "\n",
        "    def _forward(self, x):\n",
        "        # runs the neural network\n",
        "        # TODO:\n",
        "        # Your code here\n",
        "        # --------------\n",
        "        x = self.batch_norm1(x)\n",
        "        x = self.conv1(x)\n",
        "\n",
        "        x = self.batch_norm2(x)\n",
        "        x = self.conv2(x)\n",
        "\n",
        "        x = x.view(x.size(0), -1)\n",
        "        x = self.relu(self.linear1(x))\n",
        "        x = self.dropout(x)\n",
        "        x = self.relu(self.linear2(x))\n",
        "\n",
        "        return self.output(x)\n",
        "        # --------------\n",
        "\n",
        "    def forward(self, images, target=None):\n",
        "        # images ~ (batch size, num channels, height, width)\n",
        "        # target ~ (batch size)\n",
        "        # output ~ (batch size, num classes)\n",
        "        output = self._forward(images)\n",
        "\n",
        "        # get accuracy score and save it to self.accuracy\n",
        "        if target is not None:\n",
        "            loss = self.loss_func(output, target)\n",
        "\n",
        "            self.targets = torch.cat((self.targets, target.cpu()), 0)\n",
        "            pred = torch.argmax(output, dim=-1)\n",
        "            self.preds = torch.cat((self.preds, pred.cpu()), 0)\n",
        "            self.accuracy = accuracy(self.preds.long(), self.targets.long(), task='multiclass', num_classes=10)\n",
        "\n",
        "        return loss\n",
        "\n",
        "    def get_accuracy(self, reset=False):\n",
        "        # return accuracy by all values till now\n",
        "        if reset:\n",
        "            self.targets = torch.Tensor()\n",
        "            self.preds = torch.Tensor()\n",
        "        return self.accuracy"
      ]
    },
    {
      "cell_type": "markdown",
      "metadata": {
        "id": "zRuVz6TXFANc"
      },
      "source": [
        "\n",
        "### Hyper-parameters"
      ]
    },
    {
      "cell_type": "code",
      "execution_count": 26,
      "metadata": {
        "id": "6xmAPz91FAZb"
      },
      "outputs": [],
      "source": [
        "LossInfo = namedtuple(\n",
        "    \"LossInfo\", [\"full_train_losses\", \"train_epoch_losses\", \"eval_epoch_losses\"]\n",
        ")\n",
        "EPOCHS = 10\n",
        "LR = 0.001"
      ]
    },
    {
      "cell_type": "markdown",
      "metadata": {
        "id": "MkLsRtR2-U6d"
      },
      "source": [
        "### Training Loops (PyTorch)\n",
        "\n",
        "Here, we need to define the functions `train_epoch`, `validate`, `fit`.\n",
        "The structure, simplified, looks like this:\n",
        "\n",
        "```\n",
        "def train_epoch():\n",
        "    for batch in train_loader:\n",
        "        train_model_on_batch()\n",
        "def validate():\n",
        "    for batch in val_loader:\n",
        "        validate_model_on_batch()\n",
        "def fit():\n",
        "    for epoch in range(1, num_epochs):\n",
        "        train_epoch()\n",
        "        validate()\n",
        "```\n",
        "But in reality:"
      ]
    },
    {
      "cell_type": "code",
      "execution_count": 27,
      "metadata": {
        "id": "EKZRgiLPKlaz"
      },
      "outputs": [],
      "source": [
        "def train_epoch(\n",
        "    model,\n",
        "    data_loader,\n",
        "    optimizer,\n",
        "    return_losses=False,\n",
        "    device=\"cuda:0\",\n",
        "):\n",
        "    model = model.train()\n",
        "    total_loss = 0\n",
        "    num_batches = 0\n",
        "    all_losses = []\n",
        "    with tqdm(total=len(data_loader), file=sys.stdout) as prbar:\n",
        "        for batch in data_loader:\n",
        "            # move Batch to GPU\n",
        "            batch = [x.to(device=device) for x in batch]\n",
        "            loss = model(*batch)\n",
        "            # update weights\n",
        "            loss.backward()\n",
        "            optimizer.step()\n",
        "            optimizer.zero_grad()\n",
        "            # update description for tqdm\n",
        "            accuracy = model.get_accuracy()\n",
        "            prbar.set_description(\n",
        "                f\"Loss: {round(loss.item(), 4)} \"\n",
        "                f\"Accuracy: {round(accuracy.item() * 100, 4)}\"\n",
        "            )\n",
        "            prbar.update(1)\n",
        "            total_loss += loss.item()\n",
        "            num_batches += 1\n",
        "            all_losses.append(loss.detach().item())\n",
        "    acc = model.get_accuracy(reset=True)\n",
        "    metrics = {\"loss\": total_loss / num_batches, \"accuracy\": acc}\n",
        "    if return_losses:\n",
        "        return metrics, all_losses\n",
        "    else:\n",
        "        return metrics\n",
        "\n",
        "\n",
        "def validate(model, data_loader, device=\"cuda:0\"):\n",
        "    model = model.eval()\n",
        "    total_loss = 0\n",
        "    num_batches = 0\n",
        "    with tqdm(total=len(data_loader), file=sys.stdout) as prbar:\n",
        "        for batch in data_loader:\n",
        "            batch = [x.to(device=device) for x in batch]\n",
        "            loss = model(*batch)\n",
        "            accuracy = model.get_accuracy()\n",
        "            prbar.set_description(\n",
        "                f\"Loss: {round(loss.item(), 4)} \"\n",
        "                f\"Accuracy: {round(accuracy.item() * 100, 4)}\"\n",
        "            )\n",
        "            prbar.update(1)\n",
        "            total_loss += loss.item()\n",
        "            num_batches += 1\n",
        "    acc = model.get_accuracy(reset=True)\n",
        "    metrics = {\"loss\": total_loss / num_batches, \"accuracy\": acc}\n",
        "    return metrics"
      ]
    },
    {
      "cell_type": "code",
      "execution_count": 28,
      "metadata": {
        "id": "KmOlOzBnKla2"
      },
      "outputs": [],
      "source": [
        "def fit(\n",
        "    model,\n",
        "    epochs,\n",
        "    train_data_loader,\n",
        "    validation_data_loader,\n",
        "    optimizer,\n",
        "    scheduler=None,\n",
        "    device=\"cuda:0\",\n",
        "):\n",
        "    all_train_losses = []\n",
        "    epoch_train_losses = []\n",
        "    epoch_eval_losses = []\n",
        "    for epoch in range(epochs):\n",
        "        # construct iterators\n",
        "        train_iterator = iter(train_data_loader)\n",
        "        validation_iterator = iter(validation_data_loader)\n",
        "        # train step\n",
        "        print(f\"Train Epoch: {epoch}\")\n",
        "        train_metrics, one_epoch_train_losses = train_epoch(\n",
        "            model=model,\n",
        "            data_loader=train_iterator,\n",
        "            optimizer=optimizer,\n",
        "            return_losses=True,\n",
        "            device=device,\n",
        "        )\n",
        "        # save train losses\n",
        "        all_train_losses.extend(one_epoch_train_losses)\n",
        "        epoch_train_losses.append(train_metrics[\"loss\"])\n",
        "        # eval step\n",
        "        print(f\"Validation Epoch: {epoch}\")\n",
        "        with torch.no_grad():\n",
        "            validation_metrics = validate(\n",
        "                model=model, data_loader=validation_iterator, device=device\n",
        "            )\n",
        "        # save eval losses\n",
        "        epoch_eval_losses.append(validation_metrics[\"loss\"])\n",
        "        # scheduler step\n",
        "        if scheduler:\n",
        "            scheduler.step()\n",
        "    return LossInfo(all_train_losses, epoch_train_losses, epoch_eval_losses)"
      ]
    },
    {
      "cell_type": "code",
      "execution_count": 29,
      "metadata": {
        "colab": {
          "base_uri": "https://localhost:8080/"
        },
        "id": "SanI3hS6JQrL",
        "outputId": "f1e507a6-013b-482b-b2d0-0bfc88a4dbec"
      },
      "outputs": [
        {
          "output_type": "stream",
          "name": "stdout",
          "text": [
            "Train Epoch: 0\n",
            "Loss: 2.1802 Accuracy: 24.51: 100%|██████████| 469/469 [00:12<00:00, 36.40it/s]\n",
            "Validation Epoch: 0\n",
            "Loss: 2.1559 Accuracy: 52.2: 100%|██████████| 79/79 [00:01<00:00, 56.79it/s]\n"
          ]
        }
      ],
      "source": [
        "# Check that everything works (±1 minute on GPU):\n",
        "model = SimpleNet().to(device)\n",
        "_ = fit(\n",
        "    model=model,\n",
        "    epochs=1,\n",
        "    train_data_loader=train_dataloader,\n",
        "    validation_data_loader=val_dataloader,\n",
        "    optimizer=torch.optim.SGD(model.parameters(), lr=LR),\n",
        "    device=device,\n",
        ")"
      ]
    },
    {
      "cell_type": "markdown",
      "metadata": {
        "id": "3b0XCReZ4w0W"
      },
      "source": [
        "# Training Loops (Lightning)\n",
        "\n",
        "Here, the structure is a bit different.\n",
        "\n",
        "1) Create a class inherited from `pl.LightningModule`. It describes the model itself and the necessary training and validation step functions.\n",
        "\n",
        "2) Create an object of the `pl.Trainer` class with parameters (e.g., GPU number, number of epochs, gradient clipping, and so on) [docs here](https://pytorch-lightning.readthedocs.io/en/latest/api/pytorch_lightning.trainer.trainer.Trainer.html?highlight=trainer) or [here](https://pytorch-lightning.readthedocs.io/en/latest/common/trainer.html?highlight=trainer#trainer-flags).\n",
        "\n",
        "3) Call `trainer.fit(model, train_loader, val_loader)`.\n",
        "\n",
        "```python\n",
        "class MyModule(pl.LightningModule):\n",
        "    def init():\n",
        "        init_model()\n",
        "    def forward():\n",
        "        forward_model()\n",
        "    def training_step():\n",
        "        make_1_training_step()\n",
        "    def validation_step():\n",
        "        make_1_validation_step()\n",
        "\n",
        "trainer = pl.Trainer(gpus=1, max_epochs=10)\n",
        "trainer.fit(model, train_loader, val_loader)\n"
      ]
    },
    {
      "cell_type": "code",
      "execution_count": 30,
      "metadata": {
        "id": "XqO3RxM24urH"
      },
      "outputs": [],
      "source": [
        "# 1) create a LightningModule\n",
        "class SimpleModule(pl.LightningModule):\n",
        "    def __init__(self, model, learning_rate):\n",
        "        super().__init__()\n",
        "        self.model = model\n",
        "        self.learning_rate = learning_rate\n",
        "\n",
        "    def forward(self, x):\n",
        "        result = self.model(x)\n",
        "        return result\n",
        "\n",
        "    def configure_optimizers(self):\n",
        "        optimizer = torch.optim.Adam(self.parameters(), lr=self.learning_rate)\n",
        "        return optimizer\n",
        "\n",
        "    def training_step(self, train_batch, batch_idx):\n",
        "        images, target = train_batch\n",
        "        loss = self.model(images, target)\n",
        "        self.log(\n",
        "            \"train_loss\", loss, prog_bar=True\n",
        "        )  # Saves logs to a folder, but it can be easily extended to include WandB.\n",
        "        return loss\n",
        "\n",
        "    def validation_step(self, val_batch, batch_idx):\n",
        "        images, target = val_batch\n",
        "        loss = self.model(images, target)\n",
        "        self.log(\"val_loss\", loss, prog_bar=True)"
      ]
    },
    {
      "cell_type": "code",
      "execution_count": 31,
      "metadata": {
        "id": "Ihtd_7Qv-rVA",
        "colab": {
          "base_uri": "https://localhost:8080/",
          "height": 381,
          "referenced_widgets": [
            "f7396fb432f441fbb15dbee7e51c0d24",
            "ba51825bdeeb4124bc25280e1622a7bc",
            "28307e64dea5405881f9e7ad40341d4b",
            "a27eaba759b841738b687ace9676afbe",
            "7d14e5df8ef64864ae3449691b1da5ad",
            "9e301137b1bc4a9aa8e934d8865d3e3b",
            "5a56417c69d44e23b478cbc005bb64ef",
            "725fb7feb0044339b7bb92061cdb621f",
            "7914c802013e47aeaab026894b6ea665",
            "538994ec79c44358af376197fbe245d1",
            "f7ca3b8de55646288f0a622290d10ca8",
            "1f613c1140174d758526e972a255612f",
            "bba8c73b361245d39231836dbf92892f",
            "fcc7272ea57849a595e75f53c8cfd676",
            "261c9ae94a8e4071b004fc54595cc6c3",
            "77dbba9b05b148c889b1608ff388c66d",
            "4ce94329c1f74161a02f8b7af44a1ae2",
            "999f8e7ceff843dbb6d14e2695c8cfbb",
            "0b05b18eab3246cab88667ea299e9860",
            "e8b78e9dea7d4799be320c4d509795e6",
            "a854c59cce7240b789fc3d0cc83611a9",
            "48612409bf11447691d66218cf4aeaf3",
            "85027cf63dcf4c3986630feaf4a37306",
            "71805ce9ba8d4a3785faf3907ed7126f",
            "5f651b6ed9004783ba4d6ff670adaf47",
            "d36f187338074d3396462a6c8a93a98c",
            "388f88c45eeb42679fe60f1b870d609a",
            "4a2fa148360a4c9bacc162a73d6823cc",
            "70ac4ddfdc3a4f8a896e2ea415d18034",
            "b7b15195338c45f59097ffbc001fd738",
            "575e81b28de8437787d67e727502692d",
            "b2ecafaad84e4a7c86a90a1af5e00e2f",
            "60bafa1d13524db5bfeae47e5f17b3e4"
          ]
        },
        "outputId": "e3a102aa-b7ab-4a93-8263-61cf48a013f0"
      },
      "outputs": [
        {
          "output_type": "stream",
          "name": "stderr",
          "text": [
            "INFO:pytorch_lightning.utilities.rank_zero:GPU available: True (cuda), used: False\n",
            "INFO:pytorch_lightning.utilities.rank_zero:TPU available: False, using: 0 TPU cores\n",
            "INFO:pytorch_lightning.utilities.rank_zero:IPU available: False, using: 0 IPUs\n",
            "INFO:pytorch_lightning.utilities.rank_zero:HPU available: False, using: 0 HPUs\n",
            "/usr/local/lib/python3.10/dist-packages/pytorch_lightning/trainer/setup.py:187: GPU available but not used. You can set it by doing `Trainer(accelerator='gpu')`.\n",
            "WARNING:pytorch_lightning.loggers.tensorboard:Missing logger folder: /content/lightning_logs\n",
            "INFO:pytorch_lightning.callbacks.model_summary:\n",
            "  | Name  | Type      | Params\n",
            "------------------------------------\n",
            "0 | model | SimpleNet | 232 K \n",
            "------------------------------------\n",
            "232 K     Trainable params\n",
            "0         Non-trainable params\n",
            "232 K     Total params\n",
            "0.931     Total estimated model params size (MB)\n"
          ]
        },
        {
          "output_type": "display_data",
          "data": {
            "text/plain": [
              "Sanity Checking: |          | 0/? [00:00<?, ?it/s]"
            ],
            "application/vnd.jupyter.widget-view+json": {
              "version_major": 2,
              "version_minor": 0,
              "model_id": "f7396fb432f441fbb15dbee7e51c0d24"
            }
          },
          "metadata": {}
        },
        {
          "output_type": "stream",
          "name": "stderr",
          "text": [
            "/usr/local/lib/python3.10/dist-packages/torch/utils/data/dataloader.py:557: UserWarning: This DataLoader will create 4 worker processes in total. Our suggested max number of worker in current system is 2, which is smaller than what this DataLoader is going to create. Please be aware that excessive worker creation might get DataLoader running slow or even freeze, lower the worker number to avoid potential slowness/freeze if necessary.\n",
            "  warnings.warn(_create_warning_msg(\n"
          ]
        },
        {
          "output_type": "display_data",
          "data": {
            "text/plain": [
              "Training: |          | 0/? [00:00<?, ?it/s]"
            ],
            "application/vnd.jupyter.widget-view+json": {
              "version_major": 2,
              "version_minor": 0,
              "model_id": "1f613c1140174d758526e972a255612f"
            }
          },
          "metadata": {}
        },
        {
          "output_type": "display_data",
          "data": {
            "text/plain": [
              "Validation: |          | 0/? [00:00<?, ?it/s]"
            ],
            "application/vnd.jupyter.widget-view+json": {
              "version_major": 2,
              "version_minor": 0,
              "model_id": "85027cf63dcf4c3986630feaf4a37306"
            }
          },
          "metadata": {}
        },
        {
          "output_type": "stream",
          "name": "stderr",
          "text": [
            "INFO:pytorch_lightning.utilities.rank_zero:`Trainer.fit` stopped: `max_epochs=1` reached.\n"
          ]
        }
      ],
      "source": [
        "# 2) create module\n",
        "\n",
        "model = SimpleNet().to(device)\n",
        "module = SimpleModule(model, learning_rate=LR)\n",
        "\n",
        "# 3) create Trainer and train (±30 seconds on gpu)\n",
        "trainer = pl.Trainer(accelerator=\"cpu\", max_epochs=1)\n",
        "trainer.fit(module, train_dataloader, val_dataloader)\n",
        "\n",
        "# 3.5) we can also find best learning rate like this: https://pytorch-lightning.readthedocs.io/en/1.4.5/advanced/lr_finder.html\n",
        "# trainer = pl.Trainer(accelerator=\"gpu\", max_epochs=2, auto_lr_find=True)\n",
        "# trainer.tune(module, train_dataloader, eval_dataloader)\n",
        "# trainer.fit(module, train_dataloader, eval_dataloader)"
      ]
    },
    {
      "cell_type": "markdown",
      "metadata": {
        "id": "XThjhAsA-pxW"
      },
      "source": [
        "Take note of how much the behavior of `trainer.fit()` closely resembles the `fit()` function we wrote earlier.\n",
        "\n",
        "Also, observe that with Lightning, we:\n",
        "1. Didn't have to describe the training loop either by epochs or batches.\n",
        "2. Didn't risk forgetting `zero_grad()` and `.backward()`.\n",
        "3. Didn't need to manually move either the model or the data to the GPU.\n",
        "4. Gained additional features like `auto_lr_find`.\n",
        "5. Preserved the ability to use various PyTorch features such as [schedulers](https://pytorch-lightning.readthedocs.io/en/stable/common/optimization.html), logging via [WandB](https://docs.wandb.ai/guides/integrations/lightning), and so on.\n"
      ]
    },
    {
      "cell_type": "markdown",
      "metadata": {
        "id": "VTnyRAFB8266"
      },
      "source": [
        "## Comparing the performance of different optimizers\n",
        "\n",
        "### SGD"
      ]
    },
    {
      "cell_type": "code",
      "execution_count": 32,
      "metadata": {
        "id": "Xe-wjJqEXzOY",
        "colab": {
          "base_uri": "https://localhost:8080/"
        },
        "outputId": "2c1b2dd8-86f1-4b1a-b0ea-64f674794313"
      },
      "outputs": [
        {
          "output_type": "stream",
          "name": "stdout",
          "text": [
            "Train Epoch: 0\n",
            "Loss: 2.1647 Accuracy: 19.2667: 100%|██████████| 469/469 [00:11<00:00, 42.48it/s]\n",
            "Validation Epoch: 0\n",
            "Loss: 2.1582 Accuracy: 33.78: 100%|██████████| 79/79 [00:01<00:00, 53.75it/s]\n",
            "Train Epoch: 1\n",
            "Loss: 1.927 Accuracy: 33.1767: 100%|██████████| 469/469 [00:10<00:00, 42.71it/s]\n",
            "Validation Epoch: 1\n",
            "Loss: 1.8123 Accuracy: 40.0: 100%|██████████| 79/79 [00:01<00:00, 56.06it/s]\n",
            "Train Epoch: 2\n",
            "Loss: 1.4946 Accuracy: 44.4317: 100%|██████████| 469/469 [00:10<00:00, 43.22it/s]\n",
            "Validation Epoch: 2\n",
            "Loss: 1.3498 Accuracy: 59.99: 100%|██████████| 79/79 [00:01<00:00, 55.98it/s]\n",
            "Train Epoch: 3\n",
            "Loss: 1.107 Accuracy: 57.7383: 100%|██████████| 469/469 [00:12<00:00, 36.71it/s]\n",
            "Validation Epoch: 3\n",
            "Loss: 0.9596 Accuracy: 69.17: 100%|██████████| 79/79 [00:02<00:00, 38.02it/s]\n",
            "Train Epoch: 4\n",
            "Loss: 1.1131 Accuracy: 64.1467: 100%|██████████| 469/469 [00:10<00:00, 43.00it/s]\n",
            "Validation Epoch: 4\n",
            "Loss: 0.7165 Accuracy: 72.01: 100%|██████████| 79/79 [00:01<00:00, 55.82it/s]\n",
            "Train Epoch: 5\n",
            "Loss: 0.8616 Accuracy: 67.2817: 100%|██████████| 469/469 [00:11<00:00, 42.03it/s]\n",
            "Validation Epoch: 5\n",
            "Loss: 0.58 Accuracy: 73.28: 100%|██████████| 79/79 [00:01<00:00, 54.84it/s]\n",
            "Train Epoch: 6\n",
            "Loss: 0.9305 Accuracy: 69.9383: 100%|██████████| 469/469 [00:11<00:00, 42.28it/s]\n",
            "Validation Epoch: 6\n",
            "Loss: 0.4959 Accuracy: 74.36: 100%|██████████| 79/79 [00:01<00:00, 55.01it/s]\n",
            "Train Epoch: 7\n",
            "Loss: 0.7559 Accuracy: 71.605: 100%|██████████| 469/469 [00:11<00:00, 41.36it/s]\n",
            "Validation Epoch: 7\n",
            "Loss: 0.4521 Accuracy: 74.82: 100%|██████████| 79/79 [00:01<00:00, 55.49it/s]\n",
            "Train Epoch: 8\n",
            "Loss: 0.7118 Accuracy: 72.55: 100%|██████████| 469/469 [00:11<00:00, 42.20it/s]\n",
            "Validation Epoch: 8\n",
            "Loss: 0.4215 Accuracy: 75.5: 100%|██████████| 79/79 [00:01<00:00, 54.77it/s]\n",
            "Train Epoch: 9\n",
            "Loss: 0.7508 Accuracy: 73.5983: 100%|██████████| 469/469 [00:11<00:00, 42.50it/s]\n",
            "Validation Epoch: 9\n",
            "Loss: 0.3971 Accuracy: 75.68: 100%|██████████| 79/79 [00:01<00:00, 54.97it/s]\n"
          ]
        }
      ],
      "source": [
        "model = SimpleNet().to(device=device)\n",
        "sgd_loss_info = fit(\n",
        "    model=model,\n",
        "    epochs=EPOCHS,\n",
        "    train_data_loader=train_dataloader,\n",
        "    validation_data_loader=val_dataloader,\n",
        "    optimizer=torch.optim.SGD(model.parameters(), lr=LR),\n",
        "    device=device,\n",
        ")"
      ]
    },
    {
      "cell_type": "markdown",
      "metadata": {
        "id": "XNsHDEOuX_I8"
      },
      "source": [
        "### SGD with Momentum"
      ]
    },
    {
      "cell_type": "code",
      "execution_count": 33,
      "metadata": {
        "id": "WETr80TZXo1Z",
        "colab": {
          "base_uri": "https://localhost:8080/"
        },
        "outputId": "0e85a724-eed1-4ebf-88e5-baa2ff34155e"
      },
      "outputs": [
        {
          "output_type": "stream",
          "name": "stdout",
          "text": [
            "Train Epoch: 0\n",
            "Loss: 0.6253 Accuracy: 53.2217: 100%|██████████| 469/469 [00:11<00:00, 41.81it/s]\n",
            "Validation Epoch: 0\n",
            "Loss: 0.4694 Accuracy: 74.21: 100%|██████████| 79/79 [00:01<00:00, 56.81it/s]\n",
            "Train Epoch: 1\n",
            "Loss: 0.547 Accuracy: 75.48: 100%|██████████| 469/469 [00:11<00:00, 42.50it/s]\n",
            "Validation Epoch: 1\n",
            "Loss: 0.3557 Accuracy: 78.15: 100%|██████████| 79/79 [00:01<00:00, 55.28it/s]\n",
            "Train Epoch: 2\n",
            "Loss: 0.5023 Accuracy: 79.2833: 100%|██████████| 469/469 [00:11<00:00, 41.64it/s]\n",
            "Validation Epoch: 2\n",
            "Loss: 0.262 Accuracy: 81.43: 100%|██████████| 79/79 [00:01<00:00, 56.72it/s]\n",
            "Train Epoch: 3\n",
            "Loss: 0.4183 Accuracy: 81.7333: 100%|██████████| 469/469 [00:11<00:00, 42.52it/s]\n",
            "Validation Epoch: 3\n",
            "Loss: 0.23 Accuracy: 82.99: 100%|██████████| 79/79 [00:01<00:00, 56.49it/s]\n",
            "Train Epoch: 4\n",
            "Loss: 0.3282 Accuracy: 83.72: 100%|██████████| 469/469 [00:11<00:00, 42.05it/s]\n",
            "Validation Epoch: 4\n",
            "Loss: 0.1842 Accuracy: 84.73: 100%|██████████| 79/79 [00:01<00:00, 55.92it/s]\n",
            "Train Epoch: 5\n",
            "Loss: 0.3619 Accuracy: 85.21: 100%|██████████| 469/469 [00:11<00:00, 42.24it/s]\n",
            "Validation Epoch: 5\n",
            "Loss: 0.1757 Accuracy: 85.98: 100%|██████████| 79/79 [00:01<00:00, 55.85it/s]\n",
            "Train Epoch: 6\n",
            "Loss: 0.4128 Accuracy: 85.975: 100%|██████████| 469/469 [00:11<00:00, 42.55it/s]\n",
            "Validation Epoch: 6\n",
            "Loss: 0.1567 Accuracy: 86.64: 100%|██████████| 79/79 [00:01<00:00, 54.98it/s]\n",
            "Train Epoch: 7\n",
            "Loss: 0.3702 Accuracy: 86.985: 100%|██████████| 469/469 [00:11<00:00, 41.84it/s]\n",
            "Validation Epoch: 7\n",
            "Loss: 0.1756 Accuracy: 87.23: 100%|██████████| 79/79 [00:01<00:00, 54.41it/s]\n",
            "Train Epoch: 8\n",
            "Loss: 0.4942 Accuracy: 87.4367: 100%|██████████| 469/469 [00:11<00:00, 41.17it/s]\n",
            "Validation Epoch: 8\n",
            "Loss: 0.1299 Accuracy: 87.44: 100%|██████████| 79/79 [00:01<00:00, 50.64it/s]\n",
            "Train Epoch: 9\n",
            "Loss: 0.3578 Accuracy: 87.9683: 100%|██████████| 469/469 [00:11<00:00, 41.84it/s]\n",
            "Validation Epoch: 9\n",
            "Loss: 0.1629 Accuracy: 88.14: 100%|██████████| 79/79 [00:01<00:00, 55.19it/s]\n"
          ]
        }
      ],
      "source": [
        "model = SimpleNet().to(device=device)\n",
        "sgd_momentum_loss_info = fit(\n",
        "    model=model,\n",
        "    epochs=EPOCHS,\n",
        "    train_data_loader=train_dataloader,\n",
        "    validation_data_loader=val_dataloader,\n",
        "    optimizer=torch.optim.SGD(model.parameters(), momentum=0.9, lr=LR),\n",
        "    device=device,\n",
        ")"
      ]
    },
    {
      "cell_type": "markdown",
      "metadata": {
        "id": "ra4g-7ztvBC3"
      },
      "source": [
        "### RMSprop"
      ]
    },
    {
      "cell_type": "code",
      "execution_count": 34,
      "metadata": {
        "colab": {
          "base_uri": "https://localhost:8080/"
        },
        "id": "pP7tS4gsu_7o",
        "outputId": "77ca3b96-10af-46a6-8f01-8ede2e8858d2"
      },
      "outputs": [
        {
          "output_type": "stream",
          "name": "stdout",
          "text": [
            "Train Epoch: 0\n",
            "Loss: 0.3042 Accuracy: 78.8317: 100%|██████████| 469/469 [00:11<00:00, 41.50it/s]\n",
            "Validation Epoch: 0\n",
            "Loss: 0.1285 Accuracy: 86.98: 100%|██████████| 79/79 [00:01<00:00, 55.13it/s]\n",
            "Train Epoch: 1\n",
            "Loss: 0.552 Accuracy: 86.2383: 100%|██████████| 469/469 [00:11<00:00, 42.11it/s]\n",
            "Validation Epoch: 1\n",
            "Loss: 0.1608 Accuracy: 88.0: 100%|██████████| 79/79 [00:01<00:00, 55.29it/s]\n",
            "Train Epoch: 2\n",
            "Loss: 0.3752 Accuracy: 88.0167: 100%|██████████| 469/469 [00:11<00:00, 41.45it/s]\n",
            "Validation Epoch: 2\n",
            "Loss: 0.0901 Accuracy: 88.12: 100%|██████████| 79/79 [00:01<00:00, 54.28it/s]\n",
            "Train Epoch: 3\n",
            "Loss: 0.318 Accuracy: 88.9917: 100%|██████████| 469/469 [00:11<00:00, 42.00it/s]\n",
            "Validation Epoch: 3\n",
            "Loss: 0.0833 Accuracy: 88.4: 100%|██████████| 79/79 [00:01<00:00, 55.33it/s]\n",
            "Train Epoch: 4\n",
            "Loss: 0.2372 Accuracy: 89.8317: 100%|██████████| 469/469 [00:11<00:00, 42.05it/s]\n",
            "Validation Epoch: 4\n",
            "Loss: 0.0354 Accuracy: 90.06: 100%|██████████| 79/79 [00:01<00:00, 51.97it/s]\n",
            "Train Epoch: 5\n",
            "Loss: 0.1298 Accuracy: 90.405: 100%|██████████| 469/469 [00:11<00:00, 41.51it/s]\n",
            "Validation Epoch: 5\n",
            "Loss: 0.035 Accuracy: 89.31: 100%|██████████| 79/79 [00:01<00:00, 54.85it/s]\n",
            "Train Epoch: 6\n",
            "Loss: 0.1799 Accuracy: 90.9183: 100%|██████████| 469/469 [00:11<00:00, 41.67it/s]\n",
            "Validation Epoch: 6\n",
            "Loss: 0.0582 Accuracy: 89.66: 100%|██████████| 79/79 [00:01<00:00, 55.20it/s]\n",
            "Train Epoch: 7\n",
            "Loss: 0.2938 Accuracy: 91.3183: 100%|██████████| 469/469 [00:11<00:00, 41.55it/s]\n",
            "Validation Epoch: 7\n",
            "Loss: 0.05 Accuracy: 90.95: 100%|██████████| 79/79 [00:01<00:00, 54.29it/s]\n",
            "Train Epoch: 8\n",
            "Loss: 0.214 Accuracy: 91.725: 100%|██████████| 469/469 [00:11<00:00, 42.41it/s]\n",
            "Validation Epoch: 8\n",
            "Loss: 0.032 Accuracy: 90.65: 100%|██████████| 79/79 [00:01<00:00, 48.98it/s]\n",
            "Train Epoch: 9\n",
            "Loss: 0.1528 Accuracy: 92.1517: 100%|██████████| 469/469 [00:10<00:00, 42.64it/s]\n",
            "Validation Epoch: 9\n",
            "Loss: 0.0428 Accuracy: 90.66: 100%|██████████| 79/79 [00:01<00:00, 44.32it/s]\n"
          ]
        }
      ],
      "source": [
        "model = SimpleNet().to(device=device)\n",
        "rmsprop_loss_info = fit(\n",
        "    model=model,\n",
        "    epochs=EPOCHS,\n",
        "    train_data_loader=train_dataloader,\n",
        "    validation_data_loader=val_dataloader,\n",
        "    optimizer=torch.optim.RMSprop(model.parameters(), lr=LR),\n",
        "    device=device,\n",
        ")"
      ]
    },
    {
      "cell_type": "markdown",
      "metadata": {
        "id": "Y1-4TFPaYNFP"
      },
      "source": [
        "### Adam"
      ]
    },
    {
      "cell_type": "code",
      "execution_count": 35,
      "metadata": {
        "id": "AgDi8etcYKxL",
        "colab": {
          "base_uri": "https://localhost:8080/"
        },
        "outputId": "6e2f7db0-ce6e-4006-bec0-d913927316f2"
      },
      "outputs": [
        {
          "output_type": "stream",
          "name": "stdout",
          "text": [
            "Train Epoch: 0\n",
            "Loss: 0.413 Accuracy: 80.4467: 100%|██████████| 469/469 [00:10<00:00, 43.21it/s]\n",
            "Validation Epoch: 0\n",
            "Loss: 0.1534 Accuracy: 87.01: 100%|██████████| 79/79 [00:01<00:00, 44.69it/s]\n",
            "Train Epoch: 1\n",
            "Loss: 0.2899 Accuracy: 87.6133: 100%|██████████| 469/469 [00:10<00:00, 43.87it/s]\n",
            "Validation Epoch: 1\n",
            "Loss: 0.1165 Accuracy: 88.83: 100%|██████████| 79/79 [00:01<00:00, 42.54it/s]\n",
            "Train Epoch: 2\n",
            "Loss: 0.1756 Accuracy: 89.0433: 100%|██████████| 469/469 [00:10<00:00, 43.50it/s]\n",
            "Validation Epoch: 2\n",
            "Loss: 0.1144 Accuracy: 90.11: 100%|██████████| 79/79 [00:01<00:00, 42.79it/s]\n",
            "Train Epoch: 3\n",
            "Loss: 0.212 Accuracy: 90.22: 100%|██████████| 469/469 [00:10<00:00, 43.87it/s]\n",
            "Validation Epoch: 3\n",
            "Loss: 0.0993 Accuracy: 90.34: 100%|██████████| 79/79 [00:01<00:00, 41.62it/s]\n",
            "Train Epoch: 4\n",
            "Loss: 0.3496 Accuracy: 91.1683: 100%|██████████| 469/469 [00:10<00:00, 43.39it/s]\n",
            "Validation Epoch: 4\n",
            "Loss: 0.2033 Accuracy: 90.37: 100%|██████████| 79/79 [00:01<00:00, 41.80it/s]\n",
            "Train Epoch: 5\n",
            "Loss: 0.1702 Accuracy: 91.68: 100%|██████████| 469/469 [00:10<00:00, 44.01it/s]\n",
            "Validation Epoch: 5\n",
            "Loss: 0.0715 Accuracy: 89.64: 100%|██████████| 79/79 [00:01<00:00, 40.94it/s]\n",
            "Train Epoch: 6\n",
            "Loss: 0.1699 Accuracy: 92.18: 100%|██████████| 469/469 [00:10<00:00, 44.46it/s]\n",
            "Validation Epoch: 6\n",
            "Loss: 0.1295 Accuracy: 90.77: 100%|██████████| 79/79 [00:02<00:00, 38.22it/s]\n",
            "Train Epoch: 7\n",
            "Loss: 0.1884 Accuracy: 92.7567: 100%|██████████| 469/469 [00:10<00:00, 44.33it/s]\n",
            "Validation Epoch: 7\n",
            "Loss: 0.1226 Accuracy: 90.14: 100%|██████████| 79/79 [00:02<00:00, 39.05it/s]\n",
            "Train Epoch: 8\n",
            "Loss: 0.1966 Accuracy: 92.99: 100%|██████████| 469/469 [00:10<00:00, 43.94it/s]\n",
            "Validation Epoch: 8\n",
            "Loss: 0.11 Accuracy: 91.09: 100%|██████████| 79/79 [00:02<00:00, 39.21it/s]\n",
            "Train Epoch: 9\n",
            "Loss: 0.2161 Accuracy: 93.4583: 100%|██████████| 469/469 [00:10<00:00, 43.56it/s]\n",
            "Validation Epoch: 9\n",
            "Loss: 0.1724 Accuracy: 91.38: 100%|██████████| 79/79 [00:02<00:00, 38.89it/s]\n"
          ]
        }
      ],
      "source": [
        "model = SimpleNet().to(device=device)\n",
        "adam_loss_info = fit(\n",
        "    model=model,\n",
        "    epochs=EPOCHS,\n",
        "    train_data_loader=train_dataloader,\n",
        "    validation_data_loader=val_dataloader,\n",
        "    optimizer=torch.optim.Adam(model.parameters(), lr=LR),\n",
        "    device=device,\n",
        ")"
      ]
    },
    {
      "cell_type": "markdown",
      "metadata": {
        "id": "2-EKFButKxn6"
      },
      "source": [
        "### Adam + Scheduler"
      ]
    },
    {
      "cell_type": "code",
      "execution_count": 36,
      "metadata": {
        "id": "7uWBSiBG5T-A",
        "colab": {
          "base_uri": "https://localhost:8080/"
        },
        "outputId": "7b7934f8-3a44-4eb1-ad42-895f77b74d86"
      },
      "outputs": [
        {
          "output_type": "stream",
          "name": "stdout",
          "text": [
            "Train Epoch: 0\n",
            "Loss: 0.465 Accuracy: 80.945: 100%|██████████| 469/469 [00:10<00:00, 44.05it/s]\n",
            "Validation Epoch: 0\n",
            "Loss: 0.2028 Accuracy: 87.65: 100%|██████████| 79/79 [00:01<00:00, 40.06it/s]\n",
            "Train Epoch: 1\n",
            "Loss: 0.3579 Accuracy: 87.765: 100%|██████████| 469/469 [00:10<00:00, 43.53it/s]\n",
            "Validation Epoch: 1\n",
            "Loss: 0.1432 Accuracy: 89.07: 100%|██████████| 79/79 [00:01<00:00, 39.94it/s]\n",
            "Train Epoch: 2\n",
            "Loss: 0.307 Accuracy: 89.175: 100%|██████████| 469/469 [00:10<00:00, 44.26it/s]\n",
            "Validation Epoch: 2\n",
            "Loss: 0.0909 Accuracy: 89.85: 100%|██████████| 79/79 [00:02<00:00, 39.04it/s]\n",
            "Train Epoch: 3\n",
            "Loss: 0.2894 Accuracy: 90.3017: 100%|██████████| 469/469 [00:10<00:00, 44.22it/s]\n",
            "Validation Epoch: 3\n",
            "Loss: 0.0421 Accuracy: 90.3: 100%|██████████| 79/79 [00:02<00:00, 37.90it/s]\n",
            "Train Epoch: 4\n",
            "Loss: 0.2481 Accuracy: 91.2533: 100%|██████████| 469/469 [00:10<00:00, 44.64it/s]\n",
            "Validation Epoch: 4\n",
            "Loss: 0.0464 Accuracy: 90.21: 100%|██████████| 79/79 [00:02<00:00, 37.86it/s]\n",
            "Train Epoch: 5\n",
            "Loss: 0.2507 Accuracy: 91.745: 100%|██████████| 469/469 [00:10<00:00, 44.62it/s]\n",
            "Validation Epoch: 5\n",
            "Loss: 0.0626 Accuracy: 90.45: 100%|██████████| 79/79 [00:02<00:00, 37.98it/s]\n",
            "Train Epoch: 6\n",
            "Loss: 0.128 Accuracy: 92.4883: 100%|██████████| 469/469 [00:10<00:00, 43.73it/s]\n",
            "Validation Epoch: 6\n",
            "Loss: 0.0518 Accuracy: 91.08: 100%|██████████| 79/79 [00:02<00:00, 38.77it/s]\n",
            "Train Epoch: 7\n",
            "Loss: 0.139 Accuracy: 92.9367: 100%|██████████| 469/469 [00:10<00:00, 43.75it/s]\n",
            "Validation Epoch: 7\n",
            "Loss: 0.0254 Accuracy: 90.95: 100%|██████████| 79/79 [00:02<00:00, 39.02it/s]\n",
            "Train Epoch: 8\n",
            "Loss: 0.2812 Accuracy: 93.405: 100%|██████████| 469/469 [00:10<00:00, 44.08it/s]\n",
            "Validation Epoch: 8\n",
            "Loss: 0.1178 Accuracy: 91.12: 100%|██████████| 79/79 [00:02<00:00, 39.34it/s]\n",
            "Train Epoch: 9\n",
            "Loss: 0.2087 Accuracy: 93.8933: 100%|██████████| 469/469 [00:10<00:00, 44.68it/s]\n",
            "Validation Epoch: 9\n",
            "Loss: 0.0294 Accuracy: 91.69: 100%|██████████| 79/79 [00:02<00:00, 38.38it/s]\n"
          ]
        }
      ],
      "source": [
        "model = SimpleNet().to(device=device)\n",
        "lambda_func = lambda epoch: 0.975**epoch\n",
        "optimizer = torch.optim.Adam(model.parameters(), lr=LR)\n",
        "scheduler = torch.optim.lr_scheduler.LambdaLR(optimizer, lr_lambda=lambda_func)\n",
        "adam_scheduler_loss_info = fit(\n",
        "    model=model,\n",
        "    epochs=EPOCHS,\n",
        "    train_data_loader=train_dataloader,\n",
        "    validation_data_loader=val_dataloader,\n",
        "    optimizer=optimizer,\n",
        "    scheduler=scheduler,\n",
        "    device=device,\n",
        ")"
      ]
    },
    {
      "cell_type": "markdown",
      "metadata": {
        "id": "LVPEOb_I5T-A"
      },
      "source": [
        "On validation, the performance is somewhat better than with just Adam.\n"
      ]
    },
    {
      "cell_type": "markdown",
      "metadata": {
        "id": "0iVVwKYV5T-A"
      },
      "source": [
        "### Loss Decline Plots with Different Optimization Methods"
      ]
    },
    {
      "cell_type": "code",
      "execution_count": 37,
      "metadata": {
        "id": "9HsXUU8y5T-A",
        "colab": {
          "base_uri": "https://localhost:8080/",
          "height": 430
        },
        "outputId": "32120bb0-25cc-4655-b05f-cf80ccbc589f"
      },
      "outputs": [
        {
          "output_type": "display_data",
          "data": {
            "text/plain": [
              "<Figure size 640x480 with 1 Axes>"
            ],
            "image/png": "[encoded data removed]"
          },
          "metadata": {}
        }
      ],
      "source": [
        "plt.plot(\n",
        "    np.arange(len(train_dataloader) * 10),\n",
        "    sgd_loss_info.full_train_losses,\n",
        "    label=\"SGD\",\n",
        "    c=\"grey\",\n",
        ")\n",
        "plt.plot(\n",
        "    np.arange(len(train_dataloader) * 10),\n",
        "    sgd_momentum_loss_info.full_train_losses,\n",
        "    label=\"SGD Momentum\",\n",
        "    c=\"blue\",\n",
        ")\n",
        "plt.plot(\n",
        "    np.arange(len(train_dataloader) * 10),\n",
        "    rmsprop_loss_info.full_train_losses,\n",
        "    label=\"RMSProp\",\n",
        "    c=\"green\",\n",
        ")\n",
        "plt.plot(\n",
        "    np.arange(len(train_dataloader) * 10),\n",
        "    adam_loss_info.full_train_losses,\n",
        "    label=\"Adam\",\n",
        "    c=\"red\",\n",
        ")\n",
        "plt.plot(\n",
        "    np.arange(len(train_dataloader) * 10),\n",
        "    adam_scheduler_loss_info.full_train_losses,\n",
        "    label=\"Adam+Scheduler\",\n",
        "    c=\"black\",\n",
        ")\n",
        "\n",
        "plt.legend()\n",
        "plt.show()"
      ]
    },
    {
      "cell_type": "code",
      "execution_count": 38,
      "metadata": {
        "id": "3XsczR-v5T-A",
        "colab": {
          "base_uri": "https://localhost:8080/",
          "height": 434
        },
        "outputId": "2a7e94e5-1cb5-4bc8-c56b-78dfbea3343b"
      },
      "outputs": [
        {
          "output_type": "display_data",
          "data": {
            "text/plain": [
              "<Figure size 640x480 with 1 Axes>"
            ],
            "image/png": "[encoded data removed]"
          },
          "metadata": {}
        }
      ],
      "source": [
        "plt.plot(np.arange(10), sgd_loss_info.eval_epoch_losses, label=\"SGD\", c=\"grey\")\n",
        "plt.plot(\n",
        "    np.arange(10),\n",
        "    sgd_momentum_loss_info.eval_epoch_losses,\n",
        "    label=\"SGD Momentum\",\n",
        "    c=\"blue\",\n",
        ")\n",
        "plt.plot(np.arange(10), rmsprop_loss_info.eval_epoch_losses, label=\"RMSprop\", c=\"green\")\n",
        "plt.plot(np.arange(10), adam_loss_info.eval_epoch_losses, label=\"Adam\", c=\"red\")\n",
        "plt.plot(\n",
        "    np.arange(10),\n",
        "    adam_scheduler_loss_info.eval_epoch_losses,\n",
        "    label=\"Adam+Scheduler\",\n",
        "    c=\"black\",\n",
        ")\n",
        "plt.legend()\n",
        "plt.show()"
      ]
    }
  ],
  "metadata": {
    "accelerator": "GPU",
    "colab": {
      "provenance": [],
      "toc_visible": true
    },
    "kernelspec": {
      "display_name": "Python 3 (ipykernel)",
      "language": "python",
      "name": "python3"
    },
    "language_info": {
      "codemirror_mode": {
        "name": "ipython",
        "version": 3
      },
      "file_extension": ".py",
      "mimetype": "text/x-python",
      "name": "python",
      "nbconvert_exporter": "python",
      "pygments_lexer": "ipython3",
      "version": "3.10.4"
    },
    "widgets": {
      "application/vnd.jupyter.widget-state+json": {
        "f7396fb432f441fbb15dbee7e51c0d24": {
          "model_module": "@jupyter-widgets/controls",
          "model_name": "HBoxModel",
          "model_module_version": "1.5.0",
          "state": {
            "_dom_classes": [],
            "_model_module": "@jupyter-widgets/controls",
            "_model_module_version": "1.5.0",
            "_model_name": "HBoxModel",
            "_view_count": null,
            "_view_module": "@jupyter-widgets/controls",
            "_view_module_version": "1.5.0",
            "_view_name": "HBoxView",
            "box_style": "",
            "children": [
              "IPY_MODEL_ba51825bdeeb4124bc25280e1622a7bc",
              "IPY_MODEL_28307e64dea5405881f9e7ad40341d4b",
              "IPY_MODEL_a27eaba759b841738b687ace9676afbe"
            ],
            "layout": "IPY_MODEL_7d14e5df8ef64864ae3449691b1da5ad"
          }
        },
        "ba51825bdeeb4124bc25280e1622a7bc": {
          "model_module": "@jupyter-widgets/controls",
          "model_name": "HTMLModel",
          "model_module_version": "1.5.0",
          "state": {
            "_dom_classes": [],
            "_model_module": "@jupyter-widgets/controls",
            "_model_module_version": "1.5.0",
            "_model_name": "HTMLModel",
            "_view_count": null,
            "_view_module": "@jupyter-widgets/controls",
            "_view_module_version": "1.5.0",
            "_view_name": "HTMLView",
            "description": "",
            "description_tooltip": null,
            "layout": "IPY_MODEL_9e301137b1bc4a9aa8e934d8865d3e3b",
            "placeholder": "​",
            "style": "IPY_MODEL_5a56417c69d44e23b478cbc005bb64ef",
            "value": "Sanity Checking DataLoader 0: 100%"
          }
        },
        "28307e64dea5405881f9e7ad40341d4b": {
          "model_module": "@jupyter-widgets/controls",
          "model_name": "FloatProgressModel",
          "model_module_version": "1.5.0",
          "state": {
            "_dom_classes": [],
            "_model_module": "@jupyter-widgets/controls",
            "_model_module_version": "1.5.0",
            "_model_name": "FloatProgressModel",
            "_view_count": null,
            "_view_module": "@jupyter-widgets/controls",
            "_view_module_version": "1.5.0",
            "_view_name": "ProgressView",
            "bar_style": "",
            "description": "",
            "description_tooltip": null,
            "layout": "IPY_MODEL_725fb7feb0044339b7bb92061cdb621f",
            "max": 2,
            "min": 0,
            "orientation": "horizontal",
            "style": "IPY_MODEL_7914c802013e47aeaab026894b6ea665",
            "value": 2
          }
        },
        "a27eaba759b841738b687ace9676afbe": {
          "model_module": "@jupyter-widgets/controls",
          "model_name": "HTMLModel",
          "model_module_version": "1.5.0",
          "state": {
            "_dom_classes": [],
            "_model_module": "@jupyter-widgets/controls",
            "_model_module_version": "1.5.0",
            "_model_name": "HTMLModel",
            "_view_count": null,
            "_view_module": "@jupyter-widgets/controls",
            "_view_module_version": "1.5.0",
            "_view_name": "HTMLView",
            "description": "",
            "description_tooltip": null,
            "layout": "IPY_MODEL_538994ec79c44358af376197fbe245d1",
            "placeholder": "​",
            "style": "IPY_MODEL_f7ca3b8de55646288f0a622290d10ca8",
            "value": " 2/2 [00:00&lt;00:00,  7.72it/s]"
          }
        },
        "7d14e5df8ef64864ae3449691b1da5ad": {
          "model_module": "@jupyter-widgets/base",
          "model_name": "LayoutModel",
          "model_module_version": "1.2.0",
          "state": {
            "_model_module": "@jupyter-widgets/base",
            "_model_module_version": "1.2.0",
            "_model_name": "LayoutModel",
            "_view_count": null,
            "_view_module": "@jupyter-widgets/base",
            "_view_module_version": "1.2.0",
            "_view_name": "LayoutView",
            "align_content": null,
            "align_items": null,
            "align_self": null,
            "border": null,
            "bottom": null,
            "display": "inline-flex",
            "flex": null,
            "flex_flow": "row wrap",
            "grid_area": null,
            "grid_auto_columns": null,
            "grid_auto_flow": null,
            "grid_auto_rows": null,
            "grid_column": null,
            "grid_gap": null,
            "grid_row": null,
            "grid_template_areas": null,
            "grid_template_columns": null,
            "grid_template_rows": null,
            "height": null,
            "justify_content": null,
            "justify_items": null,
            "left": null,
            "margin": null,
            "max_height": null,
            "max_width": null,
            "min_height": null,
            "min_width": null,
            "object_fit": null,
            "object_position": null,
            "order": null,
            "overflow": null,
            "overflow_x": null,
            "overflow_y": null,
            "padding": null,
            "right": null,
            "top": null,
            "visibility": "hidden",
            "width": "100%"
          }
        },
        "9e301137b1bc4a9aa8e934d8865d3e3b": {
          "model_module": "@jupyter-widgets/base",
          "model_name": "LayoutModel",
          "model_module_version": "1.2.0",
          "state": {
            "_model_module": "@jupyter-widgets/base",
            "_model_module_version": "1.2.0",
            "_model_name": "LayoutModel",
            "_view_count": null,
            "_view_module": "@jupyter-widgets/base",
            "_view_module_version": "1.2.0",
            "_view_name": "LayoutView",
            "align_content": null,
            "align_items": null,
            "align_self": null,
            "border": null,
            "bottom": null,
            "display": null,
            "flex": null,
            "flex_flow": null,
            "grid_area": null,
            "grid_auto_columns": null,
            "grid_auto_flow": null,
            "grid_auto_rows": null,
            "grid_column": null,
            "grid_gap": null,
            "grid_row": null,
            "grid_template_areas": null,
            "grid_template_columns": null,
            "grid_template_rows": null,
            "height": null,
            "justify_content": null,
            "justify_items": null,
            "left": null,
            "margin": null,
            "max_height": null,
            "max_width": null,
            "min_height": null,
            "min_width": null,
            "object_fit": null,
            "object_position": null,
            "order": null,
            "overflow": null,
            "overflow_x": null,
            "overflow_y": null,
            "padding": null,
            "right": null,
            "top": null,
            "visibility": null,
            "width": null
          }
        },
        "5a56417c69d44e23b478cbc005bb64ef": {
          "model_module": "@jupyter-widgets/controls",
          "model_name": "DescriptionStyleModel",
          "model_module_version": "1.5.0",
          "state": {
            "_model_module": "@jupyter-widgets/controls",
            "_model_module_version": "1.5.0",
            "_model_name": "DescriptionStyleModel",
            "_view_count": null,
            "_view_module": "@jupyter-widgets/base",
            "_view_module_version": "1.2.0",
            "_view_name": "StyleView",
            "description_width": ""
          }
        },
        "725fb7feb0044339b7bb92061cdb621f": {
          "model_module": "@jupyter-widgets/base",
          "model_name": "LayoutModel",
          "model_module_version": "1.2.0",
          "state": {
            "_model_module": "@jupyter-widgets/base",
            "_model_module_version": "1.2.0",
            "_model_name": "LayoutModel",
            "_view_count": null,
            "_view_module": "@jupyter-widgets/base",
            "_view_module_version": "1.2.0",
            "_view_name": "LayoutView",
            "align_content": null,
            "align_items": null,
            "align_self": null,
            "border": null,
            "bottom": null,
            "display": null,
            "flex": "2",
            "flex_flow": null,
            "grid_area": null,
            "grid_auto_columns": null,
            "grid_auto_flow": null,
            "grid_auto_rows": null,
            "grid_column": null,
            "grid_gap": null,
            "grid_row": null,
            "grid_template_areas": null,
            "grid_template_columns": null,
            "grid_template_rows": null,
            "height": null,
            "justify_content": null,
            "justify_items": null,
            "left": null,
            "margin": null,
            "max_height": null,
            "max_width": null,
            "min_height": null,
            "min_width": null,
            "object_fit": null,
            "object_position": null,
            "order": null,
            "overflow": null,
            "overflow_x": null,
            "overflow_y": null,
            "padding": null,
            "right": null,
            "top": null,
            "visibility": null,
            "width": null
          }
        },
        "7914c802013e47aeaab026894b6ea665": {
          "model_module": "@jupyter-widgets/controls",
          "model_name": "ProgressStyleModel",
          "model_module_version": "1.5.0",
          "state": {
            "_model_module": "@jupyter-widgets/controls",
            "_model_module_version": "1.5.0",
            "_model_name": "ProgressStyleModel",
            "_view_count": null,
            "_view_module": "@jupyter-widgets/base",
            "_view_module_version": "1.2.0",
            "_view_name": "StyleView",
            "bar_color": null,
            "description_width": ""
          }
        },
        "538994ec79c44358af376197fbe245d1": {
          "model_module": "@jupyter-widgets/base",
          "model_name": "LayoutModel",
          "model_module_version": "1.2.0",
          "state": {
            "_model_module": "@jupyter-widgets/base",
            "_model_module_version": "1.2.0",
            "_model_name": "LayoutModel",
            "_view_count": null,
            "_view_module": "@jupyter-widgets/base",
            "_view_module_version": "1.2.0",
            "_view_name": "LayoutView",
            "align_content": null,
            "align_items": null,
            "align_self": null,
            "border": null,
            "bottom": null,
            "display": null,
            "flex": null,
            "flex_flow": null,
            "grid_area": null,
            "grid_auto_columns": null,
            "grid_auto_flow": null,
            "grid_auto_rows": null,
            "grid_column": null,
            "grid_gap": null,
            "grid_row": null,
            "grid_template_areas": null,
            "grid_template_columns": null,
            "grid_template_rows": null,
            "height": null,
            "justify_content": null,
            "justify_items": null,
            "left": null,
            "margin": null,
            "max_height": null,
            "max_width": null,
            "min_height": null,
            "min_width": null,
            "object_fit": null,
            "object_position": null,
            "order": null,
            "overflow": null,
            "overflow_x": null,
            "overflow_y": null,
            "padding": null,
            "right": null,
            "top": null,
            "visibility": null,
            "width": null
          }
        },
        "f7ca3b8de55646288f0a622290d10ca8": {
          "model_module": "@jupyter-widgets/controls",
          "model_name": "DescriptionStyleModel",
          "model_module_version": "1.5.0",
          "state": {
            "_model_module": "@jupyter-widgets/controls",
            "_model_module_version": "1.5.0",
            "_model_name": "DescriptionStyleModel",
            "_view_count": null,
            "_view_module": "@jupyter-widgets/base",
            "_view_module_version": "1.2.0",
            "_view_name": "StyleView",
            "description_width": ""
          }
        },
        "1f613c1140174d758526e972a255612f": {
          "model_module": "@jupyter-widgets/controls",
          "model_name": "HBoxModel",
          "model_module_version": "1.5.0",
          "state": {
            "_dom_classes": [],
            "_model_module": "@jupyter-widgets/controls",
            "_model_module_version": "1.5.0",
            "_model_name": "HBoxModel",
            "_view_count": null,
            "_view_module": "@jupyter-widgets/controls",
            "_view_module_version": "1.5.0",
            "_view_name": "HBoxView",
            "box_style": "",
            "children": [
              "IPY_MODEL_bba8c73b361245d39231836dbf92892f",
              "IPY_MODEL_fcc7272ea57849a595e75f53c8cfd676",
              "IPY_MODEL_261c9ae94a8e4071b004fc54595cc6c3"
            ],
            "layout": "IPY_MODEL_77dbba9b05b148c889b1608ff388c66d"
          }
        },
        "bba8c73b361245d39231836dbf92892f": {
          "model_module": "@jupyter-widgets/controls",
          "model_name": "HTMLModel",
          "model_module_version": "1.5.0",
          "state": {
            "_dom_classes": [],
            "_model_module": "@jupyter-widgets/controls",
            "_model_module_version": "1.5.0",
            "_model_name": "HTMLModel",
            "_view_count": null,
            "_view_module": "@jupyter-widgets/controls",
            "_view_module_version": "1.5.0",
            "_view_name": "HTMLView",
            "description": "",
            "description_tooltip": null,
            "layout": "IPY_MODEL_4ce94329c1f74161a02f8b7af44a1ae2",
            "placeholder": "​",
            "style": "IPY_MODEL_999f8e7ceff843dbb6d14e2695c8cfbb",
            "value": "Epoch 0: 100%"
          }
        },
        "fcc7272ea57849a595e75f53c8cfd676": {
          "model_module": "@jupyter-widgets/controls",
          "model_name": "FloatProgressModel",
          "model_module_version": "1.5.0",
          "state": {
            "_dom_classes": [],
            "_model_module": "@jupyter-widgets/controls",
            "_model_module_version": "1.5.0",
            "_model_name": "FloatProgressModel",
            "_view_count": null,
            "_view_module": "@jupyter-widgets/controls",
            "_view_module_version": "1.5.0",
            "_view_name": "ProgressView",
            "bar_style": "success",
            "description": "",
            "description_tooltip": null,
            "layout": "IPY_MODEL_0b05b18eab3246cab88667ea299e9860",
            "max": 469,
            "min": 0,
            "orientation": "horizontal",
            "style": "IPY_MODEL_e8b78e9dea7d4799be320c4d509795e6",
            "value": 469
          }
        },
        "261c9ae94a8e4071b004fc54595cc6c3": {
          "model_module": "@jupyter-widgets/controls",
          "model_name": "HTMLModel",
          "model_module_version": "1.5.0",
          "state": {
            "_dom_classes": [],
            "_model_module": "@jupyter-widgets/controls",
            "_model_module_version": "1.5.0",
            "_model_name": "HTMLModel",
            "_view_count": null,
            "_view_module": "@jupyter-widgets/controls",
            "_view_module_version": "1.5.0",
            "_view_name": "HTMLView",
            "description": "",
            "description_tooltip": null,
            "layout": "IPY_MODEL_a854c59cce7240b789fc3d0cc83611a9",
            "placeholder": "​",
            "style": "IPY_MODEL_48612409bf11447691d66218cf4aeaf3",
            "value": " 469/469 [01:00&lt;00:00,  7.72it/s, v_num=0, train_loss=0.324, val_loss=0.350]"
          }
        },
        "77dbba9b05b148c889b1608ff388c66d": {
          "model_module": "@jupyter-widgets/base",
          "model_name": "LayoutModel",
          "model_module_version": "1.2.0",
          "state": {
            "_model_module": "@jupyter-widgets/base",
            "_model_module_version": "1.2.0",
            "_model_name": "LayoutModel",
            "_view_count": null,
            "_view_module": "@jupyter-widgets/base",
            "_view_module_version": "1.2.0",
            "_view_name": "LayoutView",
            "align_content": null,
            "align_items": null,
            "align_self": null,
            "border": null,
            "bottom": null,
            "display": "inline-flex",
            "flex": null,
            "flex_flow": "row wrap",
            "grid_area": null,
            "grid_auto_columns": null,
            "grid_auto_flow": null,
            "grid_auto_rows": null,
            "grid_column": null,
            "grid_gap": null,
            "grid_row": null,
            "grid_template_areas": null,
            "grid_template_columns": null,
            "grid_template_rows": null,
            "height": null,
            "justify_content": null,
            "justify_items": null,
            "left": null,
            "margin": null,
            "max_height": null,
            "max_width": null,
            "min_height": null,
            "min_width": null,
            "object_fit": null,
            "object_position": null,
            "order": null,
            "overflow": null,
            "overflow_x": null,
            "overflow_y": null,
            "padding": null,
            "right": null,
            "top": null,
            "visibility": null,
            "width": "100%"
          }
        },
        "4ce94329c1f74161a02f8b7af44a1ae2": {
          "model_module": "@jupyter-widgets/base",
          "model_name": "LayoutModel",
          "model_module_version": "1.2.0",
          "state": {
            "_model_module": "@jupyter-widgets/base",
            "_model_module_version": "1.2.0",
            "_model_name": "LayoutModel",
            "_view_count": null,
            "_view_module": "@jupyter-widgets/base",
            "_view_module_version": "1.2.0",
            "_view_name": "LayoutView",
            "align_content": null,
            "align_items": null,
            "align_self": null,
            "border": null,
            "bottom": null,
            "display": null,
            "flex": null,
            "flex_flow": null,
            "grid_area": null,
            "grid_auto_columns": null,
            "grid_auto_flow": null,
            "grid_auto_rows": null,
            "grid_column": null,
            "grid_gap": null,
            "grid_row": null,
            "grid_template_areas": null,
            "grid_template_columns": null,
            "grid_template_rows": null,
            "height": null,
            "justify_content": null,
            "justify_items": null,
            "left": null,
            "margin": null,
            "max_height": null,
            "max_width": null,
            "min_height": null,
            "min_width": null,
            "object_fit": null,
            "object_position": null,
            "order": null,
            "overflow": null,
            "overflow_x": null,
            "overflow_y": null,
            "padding": null,
            "right": null,
            "top": null,
            "visibility": null,
            "width": null
          }
        },
        "999f8e7ceff843dbb6d14e2695c8cfbb": {
          "model_module": "@jupyter-widgets/controls",
          "model_name": "DescriptionStyleModel",
          "model_module_version": "1.5.0",
          "state": {
            "_model_module": "@jupyter-widgets/controls",
            "_model_module_version": "1.5.0",
            "_model_name": "DescriptionStyleModel",
            "_view_count": null,
            "_view_module": "@jupyter-widgets/base",
            "_view_module_version": "1.2.0",
            "_view_name": "StyleView",
            "description_width": ""
          }
        },
        "0b05b18eab3246cab88667ea299e9860": {
          "model_module": "@jupyter-widgets/base",
          "model_name": "LayoutModel",
          "model_module_version": "1.2.0",
          "state": {
            "_model_module": "@jupyter-widgets/base",
            "_model_module_version": "1.2.0",
            "_model_name": "LayoutModel",
            "_view_count": null,
            "_view_module": "@jupyter-widgets/base",
            "_view_module_version": "1.2.0",
            "_view_name": "LayoutView",
            "align_content": null,
            "align_items": null,
            "align_self": null,
            "border": null,
            "bottom": null,
            "display": null,
            "flex": "2",
            "flex_flow": null,
            "grid_area": null,
            "grid_auto_columns": null,
            "grid_auto_flow": null,
            "grid_auto_rows": null,
            "grid_column": null,
            "grid_gap": null,
            "grid_row": null,
            "grid_template_areas": null,
            "grid_template_columns": null,
            "grid_template_rows": null,
            "height": null,
            "justify_content": null,
            "justify_items": null,
            "left": null,
            "margin": null,
            "max_height": null,
            "max_width": null,
            "min_height": null,
            "min_width": null,
            "object_fit": null,
            "object_position": null,
            "order": null,
            "overflow": null,
            "overflow_x": null,
            "overflow_y": null,
            "padding": null,
            "right": null,
            "top": null,
            "visibility": null,
            "width": null
          }
        },
        "e8b78e9dea7d4799be320c4d509795e6": {
          "model_module": "@jupyter-widgets/controls",
          "model_name": "ProgressStyleModel",
          "model_module_version": "1.5.0",
          "state": {
            "_model_module": "@jupyter-widgets/controls",
            "_model_module_version": "1.5.0",
            "_model_name": "ProgressStyleModel",
            "_view_count": null,
            "_view_module": "@jupyter-widgets/base",
            "_view_module_version": "1.2.0",
            "_view_name": "StyleView",
            "bar_color": null,
            "description_width": ""
          }
        },
        "a854c59cce7240b789fc3d0cc83611a9": {
          "model_module": "@jupyter-widgets/base",
          "model_name": "LayoutModel",
          "model_module_version": "1.2.0",
          "state": {
            "_model_module": "@jupyter-widgets/base",
            "_model_module_version": "1.2.0",
            "_model_name": "LayoutModel",
            "_view_count": null,
            "_view_module": "@jupyter-widgets/base",
            "_view_module_version": "1.2.0",
            "_view_name": "LayoutView",
            "align_content": null,
            "align_items": null,
            "align_self": null,
            "border": null,
            "bottom": null,
            "display": null,
            "flex": null,
            "flex_flow": null,
            "grid_area": null,
            "grid_auto_columns": null,
            "grid_auto_flow": null,
            "grid_auto_rows": null,
            "grid_column": null,
            "grid_gap": null,
            "grid_row": null,
            "grid_template_areas": null,
            "grid_template_columns": null,
            "grid_template_rows": null,
            "height": null,
            "justify_content": null,
            "justify_items": null,
            "left": null,
            "margin": null,
            "max_height": null,
            "max_width": null,
            "min_height": null,
            "min_width": null,
            "object_fit": null,
            "object_position": null,
            "order": null,
            "overflow": null,
            "overflow_x": null,
            "overflow_y": null,
            "padding": null,
            "right": null,
            "top": null,
            "visibility": null,
            "width": null
          }
        },
        "48612409bf11447691d66218cf4aeaf3": {
          "model_module": "@jupyter-widgets/controls",
          "model_name": "DescriptionStyleModel",
          "model_module_version": "1.5.0",
          "state": {
            "_model_module": "@jupyter-widgets/controls",
            "_model_module_version": "1.5.0",
            "_model_name": "DescriptionStyleModel",
            "_view_count": null,
            "_view_module": "@jupyter-widgets/base",
            "_view_module_version": "1.2.0",
            "_view_name": "StyleView",
            "description_width": ""
          }
        },
        "85027cf63dcf4c3986630feaf4a37306": {
          "model_module": "@jupyter-widgets/controls",
          "model_name": "HBoxModel",
          "model_module_version": "1.5.0",
          "state": {
            "_dom_classes": [],
            "_model_module": "@jupyter-widgets/controls",
            "_model_module_version": "1.5.0",
            "_model_name": "HBoxModel",
            "_view_count": null,
            "_view_module": "@jupyter-widgets/controls",
            "_view_module_version": "1.5.0",
            "_view_name": "HBoxView",
            "box_style": "",
            "children": [
              "IPY_MODEL_71805ce9ba8d4a3785faf3907ed7126f",
              "IPY_MODEL_5f651b6ed9004783ba4d6ff670adaf47",
              "IPY_MODEL_d36f187338074d3396462a6c8a93a98c"
            ],
            "layout": "IPY_MODEL_388f88c45eeb42679fe60f1b870d609a"
          }
        },
        "71805ce9ba8d4a3785faf3907ed7126f": {
          "model_module": "@jupyter-widgets/controls",
          "model_name": "HTMLModel",
          "model_module_version": "1.5.0",
          "state": {
            "_dom_classes": [],
            "_model_module": "@jupyter-widgets/controls",
            "_model_module_version": "1.5.0",
            "_model_name": "HTMLModel",
            "_view_count": null,
            "_view_module": "@jupyter-widgets/controls",
            "_view_module_version": "1.5.0",
            "_view_name": "HTMLView",
            "description": "",
            "description_tooltip": null,
            "layout": "IPY_MODEL_4a2fa148360a4c9bacc162a73d6823cc",
            "placeholder": "​",
            "style": "IPY_MODEL_70ac4ddfdc3a4f8a896e2ea415d18034",
            "value": "Validation DataLoader 0: 100%"
          }
        },
        "5f651b6ed9004783ba4d6ff670adaf47": {
          "model_module": "@jupyter-widgets/controls",
          "model_name": "FloatProgressModel",
          "model_module_version": "1.5.0",
          "state": {
            "_dom_classes": [],
            "_model_module": "@jupyter-widgets/controls",
            "_model_module_version": "1.5.0",
            "_model_name": "FloatProgressModel",
            "_view_count": null,
            "_view_module": "@jupyter-widgets/controls",
            "_view_module_version": "1.5.0",
            "_view_name": "ProgressView",
            "bar_style": "",
            "description": "",
            "description_tooltip": null,
            "layout": "IPY_MODEL_b7b15195338c45f59097ffbc001fd738",
            "max": 79,
            "min": 0,
            "orientation": "horizontal",
            "style": "IPY_MODEL_575e81b28de8437787d67e727502692d",
            "value": 79
          }
        },
        "d36f187338074d3396462a6c8a93a98c": {
          "model_module": "@jupyter-widgets/controls",
          "model_name": "HTMLModel",
          "model_module_version": "1.5.0",
          "state": {
            "_dom_classes": [],
            "_model_module": "@jupyter-widgets/controls",
            "_model_module_version": "1.5.0",
            "_model_name": "HTMLModel",
            "_view_count": null,
            "_view_module": "@jupyter-widgets/controls",
            "_view_module_version": "1.5.0",
            "_view_name": "HTMLView",
            "description": "",
            "description_tooltip": null,
            "layout": "IPY_MODEL_b2ecafaad84e4a7c86a90a1af5e00e2f",
            "placeholder": "​",
            "style": "IPY_MODEL_60bafa1d13524db5bfeae47e5f17b3e4",
            "value": " 79/79 [00:03&lt;00:00, 20.53it/s]"
          }
        },
        "388f88c45eeb42679fe60f1b870d609a": {
          "model_module": "@jupyter-widgets/base",
          "model_name": "LayoutModel",
          "model_module_version": "1.2.0",
          "state": {
            "_model_module": "@jupyter-widgets/base",
            "_model_module_version": "1.2.0",
            "_model_name": "LayoutModel",
            "_view_count": null,
            "_view_module": "@jupyter-widgets/base",
            "_view_module_version": "1.2.0",
            "_view_name": "LayoutView",
            "align_content": null,
            "align_items": null,
            "align_self": null,
            "border": null,
            "bottom": null,
            "display": "inline-flex",
            "flex": null,
            "flex_flow": "row wrap",
            "grid_area": null,
            "grid_auto_columns": null,
            "grid_auto_flow": null,
            "grid_auto_rows": null,
            "grid_column": null,
            "grid_gap": null,
            "grid_row": null,
            "grid_template_areas": null,
            "grid_template_columns": null,
            "grid_template_rows": null,
            "height": null,
            "justify_content": null,
            "justify_items": null,
            "left": null,
            "margin": null,
            "max_height": null,
            "max_width": null,
            "min_height": null,
            "min_width": null,
            "object_fit": null,
            "object_position": null,
            "order": null,
            "overflow": null,
            "overflow_x": null,
            "overflow_y": null,
            "padding": null,
            "right": null,
            "top": null,
            "visibility": "hidden",
            "width": "100%"
          }
        },
        "4a2fa148360a4c9bacc162a73d6823cc": {
          "model_module": "@jupyter-widgets/base",
          "model_name": "LayoutModel",
          "model_module_version": "1.2.0",
          "state": {
            "_model_module": "@jupyter-widgets/base",
            "_model_module_version": "1.2.0",
            "_model_name": "LayoutModel",
            "_view_count": null,
            "_view_module": "@jupyter-widgets/base",
            "_view_module_version": "1.2.0",
            "_view_name": "LayoutView",
            "align_content": null,
            "align_items": null,
            "align_self": null,
            "border": null,
            "bottom": null,
            "display": null,
            "flex": null,
            "flex_flow": null,
            "grid_area": null,
            "grid_auto_columns": null,
            "grid_auto_flow": null,
            "grid_auto_rows": null,
            "grid_column": null,
            "grid_gap": null,
            "grid_row": null,
            "grid_template_areas": null,
            "grid_template_columns": null,
            "grid_template_rows": null,
            "height": null,
            "justify_content": null,
            "justify_items": null,
            "left": null,
            "margin": null,
            "max_height": null,
            "max_width": null,
            "min_height": null,
            "min_width": null,
            "object_fit": null,
            "object_position": null,
            "order": null,
            "overflow": null,
            "overflow_x": null,
            "overflow_y": null,
            "padding": null,
            "right": null,
            "top": null,
            "visibility": null,
            "width": null
          }
        },
        "70ac4ddfdc3a4f8a896e2ea415d18034": {
          "model_module": "@jupyter-widgets/controls",
          "model_name": "DescriptionStyleModel",
          "model_module_version": "1.5.0",
          "state": {
            "_model_module": "@jupyter-widgets/controls",
            "_model_module_version": "1.5.0",
            "_model_name": "DescriptionStyleModel",
            "_view_count": null,
            "_view_module": "@jupyter-widgets/base",
            "_view_module_version": "1.2.0",
            "_view_name": "StyleView",
            "description_width": ""
          }
        },
        "b7b15195338c45f59097ffbc001fd738": {
          "model_module": "@jupyter-widgets/base",
          "model_name": "LayoutModel",
          "model_module_version": "1.2.0",
          "state": {
            "_model_module": "@jupyter-widgets/base",
            "_model_module_version": "1.2.0",
            "_model_name": "LayoutModel",
            "_view_count": null,
            "_view_module": "@jupyter-widgets/base",
            "_view_module_version": "1.2.0",
            "_view_name": "LayoutView",
            "align_content": null,
            "align_items": null,
            "align_self": null,
            "border": null,
            "bottom": null,
            "display": null,
            "flex": "2",
            "flex_flow": null,
            "grid_area": null,
            "grid_auto_columns": null,
            "grid_auto_flow": null,
            "grid_auto_rows": null,
            "grid_column": null,
            "grid_gap": null,
            "grid_row": null,
            "grid_template_areas": null,
            "grid_template_columns": null,
            "grid_template_rows": null,
            "height": null,
            "justify_content": null,
            "justify_items": null,
            "left": null,
            "margin": null,
            "max_height": null,
            "max_width": null,
            "min_height": null,
            "min_width": null,
            "object_fit": null,
            "object_position": null,
            "order": null,
            "overflow": null,
            "overflow_x": null,
            "overflow_y": null,
            "padding": null,
            "right": null,
            "top": null,
            "visibility": null,
            "width": null
          }
        },
        "575e81b28de8437787d67e727502692d": {
          "model_module": "@jupyter-widgets/controls",
          "model_name": "ProgressStyleModel",
          "model_module_version": "1.5.0",
          "state": {
            "_model_module": "@jupyter-widgets/controls",
            "_model_module_version": "1.5.0",
            "_model_name": "ProgressStyleModel",
            "_view_count": null,
            "_view_module": "@jupyter-widgets/base",
            "_view_module_version": "1.2.0",
            "_view_name": "StyleView",
            "bar_color": null,
            "description_width": ""
          }
        },
        "b2ecafaad84e4a7c86a90a1af5e00e2f": {
          "model_module": "@jupyter-widgets/base",
          "model_name": "LayoutModel",
          "model_module_version": "1.2.0",
          "state": {
            "_model_module": "@jupyter-widgets/base",
            "_model_module_version": "1.2.0",
            "_model_name": "LayoutModel",
            "_view_count": null,
            "_view_module": "@jupyter-widgets/base",
            "_view_module_version": "1.2.0",
            "_view_name": "LayoutView",
            "align_content": null,
            "align_items": null,
            "align_self": null,
            "border": null,
            "bottom": null,
            "display": null,
            "flex": null,
            "flex_flow": null,
            "grid_area": null,
            "grid_auto_columns": null,
            "grid_auto_flow": null,
            "grid_auto_rows": null,
            "grid_column": null,
            "grid_gap": null,
            "grid_row": null,
            "grid_template_areas": null,
            "grid_template_columns": null,
            "grid_template_rows": null,
            "height": null,
            "justify_content": null,
            "justify_items": null,
            "left": null,
            "margin": null,
            "max_height": null,
            "max_width": null,
            "min_height": null,
            "min_width": null,
            "object_fit": null,
            "object_position": null,
            "order": null,
            "overflow": null,
            "overflow_x": null,
            "overflow_y": null,
            "padding": null,
            "right": null,
            "top": null,
            "visibility": null,
            "width": null
          }
        },
        "60bafa1d13524db5bfeae47e5f17b3e4": {
          "model_module": "@jupyter-widgets/controls",
          "model_name": "DescriptionStyleModel",
          "model_module_version": "1.5.0",
          "state": {
            "_model_module": "@jupyter-widgets/controls",
            "_model_module_version": "1.5.0",
            "_model_name": "DescriptionStyleModel",
            "_view_count": null,
            "_view_module": "@jupyter-widgets/base",
            "_view_module_version": "1.2.0",
            "_view_name": "StyleView",
            "description_width": ""
          }
        }
      }
    }
  },
  "nbformat": 4,
  "nbformat_minor": 0
}